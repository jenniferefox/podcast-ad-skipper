{
 "cells": [
  {
   "cell_type": "code",
   "execution_count": 1,
   "metadata": {},
   "outputs": [],
   "source": [
    "# from podcast_ad_skipper.Spectrogram_Conversion import create_spectrogram\n",
    "import pandas as pd\n",
    "from podcast_ad_skipper.google_cloud import *\n",
    "import librosa\n",
    "from podcast_ad_skipper.params import *\n",
    "from podcast_ad_skipper.data_preparation import *\n",
    "\n",
    "from google.auth.exceptions import GoogleAuthError\n",
    "from google.cloud import storage\n",
    "from google.oauth2 import service_account\n",
    "from google.cloud import bigquery\n"
   ]
  },
  {
   "cell_type": "code",
   "execution_count": 2,
   "metadata": {},
   "outputs": [
    {
     "name": "stdout",
     "output_type": "stream",
     "text": [
      "Authenticated successfully! ✅\n"
     ]
    }
   ],
   "source": [
    "storage_client = auth_gc()"
   ]
  },
  {
   "cell_type": "code",
   "execution_count": 3,
   "metadata": {},
   "outputs": [],
   "source": [
    "prefixes =GCP_PREFIXES[0]\n",
    "bucket_name = BUCKET_NAME"
   ]
  },
  {
   "cell_type": "code",
   "execution_count": 4,
   "metadata": {},
   "outputs": [],
   "source": [
    "file_list = retrieve_files_in_folder(storage_client, bucket_name, prefixes)"
   ]
  },
  {
   "cell_type": "code",
   "execution_count": 5,
   "metadata": {},
   "outputs": [],
   "source": [
    "open_file = open_gcs_file(file_list[0])"
   ]
  },
  {
   "cell_type": "code",
   "execution_count": 6,
   "metadata": {},
   "outputs": [
    {
     "name": "stdout",
     "output_type": "stream",
     "text": [
      "Processing files: total 5837\n"
     ]
    }
   ],
   "source": [
    "features = get_features_model(file_list)"
   ]
  },
  {
   "cell_type": "code",
   "execution_count": 7,
   "metadata": {},
   "outputs": [
    {
     "data": {
      "text/plain": [
       "(96, 64, 3)"
      ]
     },
     "execution_count": 7,
     "metadata": {},
     "output_type": "execute_result"
    }
   ],
   "source": [
    "features[0][0].shape"
   ]
  },
  {
   "cell_type": "code",
   "execution_count": 8,
   "metadata": {},
   "outputs": [],
   "source": [
    "import pandas as pd\n",
    "from podcast_ad_skipper.main import transform_features_into_dataframe"
   ]
  },
  {
   "cell_type": "code",
   "execution_count": 23,
   "metadata": {},
   "outputs": [
    {
     "data": {
      "text/html": [
       "<div>\n",
       "<style scoped>\n",
       "    .dataframe tbody tr th:only-of-type {\n",
       "        vertical-align: middle;\n",
       "    }\n",
       "\n",
       "    .dataframe tbody tr th {\n",
       "        vertical-align: top;\n",
       "    }\n",
       "\n",
       "    .dataframe thead th {\n",
       "        text-align: right;\n",
       "    }\n",
       "</style>\n",
       "<table border=\"1\" class=\"dataframe\">\n",
       "  <thead>\n",
       "    <tr style=\"text-align: right;\">\n",
       "      <th></th>\n",
       "      <th>spectrogram</th>\n",
       "      <th>labels</th>\n",
       "      <th>seconds</th>\n",
       "      <th>durations</th>\n",
       "      <th>podcast_names</th>\n",
       "    </tr>\n",
       "  </thead>\n",
       "  <tbody>\n",
       "    <tr>\n",
       "      <th>0</th>\n",
       "      <td>[[[0.3966400921344757, 0.3966400921344757, 0.3...</td>\n",
       "      <td>0</td>\n",
       "      <td>1000</td>\n",
       "      <td>5864</td>\n",
       "      <td>billionairepersonalitydisorder</td>\n",
       "    </tr>\n",
       "    <tr>\n",
       "      <th>1</th>\n",
       "      <td>[[[0.15291857719421387, 0.15291857719421387, 0...</td>\n",
       "      <td>0</td>\n",
       "      <td>1001</td>\n",
       "      <td>5864</td>\n",
       "      <td>billionairepersonalitydisorder</td>\n",
       "    </tr>\n",
       "    <tr>\n",
       "      <th>2</th>\n",
       "      <td>[[[0.1725386381149292, 0.1725386381149292, 0.1...</td>\n",
       "      <td>0</td>\n",
       "      <td>1002</td>\n",
       "      <td>5864</td>\n",
       "      <td>billionairepersonalitydisorder</td>\n",
       "    </tr>\n",
       "    <tr>\n",
       "      <th>3</th>\n",
       "      <td>[[[0.5269443392753601, 0.5269443392753601, 0.5...</td>\n",
       "      <td>0</td>\n",
       "      <td>1003</td>\n",
       "      <td>5864</td>\n",
       "      <td>billionairepersonalitydisorder</td>\n",
       "    </tr>\n",
       "  </tbody>\n",
       "</table>\n",
       "</div>"
      ],
      "text/plain": [
       "                                         spectrogram labels seconds durations  \\\n",
       "0  [[[0.3966400921344757, 0.3966400921344757, 0.3...      0    1000      5864   \n",
       "1  [[[0.15291857719421387, 0.15291857719421387, 0...      0    1001      5864   \n",
       "2  [[[0.1725386381149292, 0.1725386381149292, 0.1...      0    1002      5864   \n",
       "3  [[[0.5269443392753601, 0.5269443392753601, 0.5...      0    1003      5864   \n",
       "\n",
       "                    podcast_names  \n",
       "0  billionairepersonalitydisorder  \n",
       "1  billionairepersonalitydisorder  \n",
       "2  billionairepersonalitydisorder  \n",
       "3  billionairepersonalitydisorder  "
      ]
     },
     "execution_count": 23,
     "metadata": {},
     "output_type": "execute_result"
    }
   ],
   "source": [
    "data = transform_features_into_dataframe(features)\n",
    "data"
   ]
  },
  {
   "cell_type": "code",
   "execution_count": 24,
   "metadata": {},
   "outputs": [
    {
     "data": {
      "text/plain": [
       "list"
      ]
     },
     "execution_count": 24,
     "metadata": {},
     "output_type": "execute_result"
    }
   ],
   "source": [
    "type(data[\"spectrogram\"][0])"
   ]
  },
  {
   "cell_type": "code",
   "execution_count": 11,
   "metadata": {},
   "outputs": [],
   "source": [
    "data['seconds'] = data['seconds'].astype(int)\n",
    "data['durations'] = data['durations'].astype(int)\n",
    "data[\"labels\"] = data['labels'].astype(int)"
   ]
  },
  {
   "cell_type": "code",
   "execution_count": 52,
   "metadata": {},
   "outputs": [
    {
     "data": {
      "text/html": [
       "<div>\n",
       "<style scoped>\n",
       "    .dataframe tbody tr th:only-of-type {\n",
       "        vertical-align: middle;\n",
       "    }\n",
       "\n",
       "    .dataframe tbody tr th {\n",
       "        vertical-align: top;\n",
       "    }\n",
       "\n",
       "    .dataframe thead th {\n",
       "        text-align: right;\n",
       "    }\n",
       "</style>\n",
       "<table border=\"1\" class=\"dataframe\">\n",
       "  <thead>\n",
       "    <tr style=\"text-align: right;\">\n",
       "      <th></th>\n",
       "      <th>spectrogram</th>\n",
       "      <th>labels</th>\n",
       "      <th>seconds</th>\n",
       "      <th>durations</th>\n",
       "      <th>podcast_names</th>\n",
       "    </tr>\n",
       "  </thead>\n",
       "  <tbody>\n",
       "    <tr>\n",
       "      <th>0</th>\n",
       "      <td>[[[0.3966400921344757, 0.3966400921344757, 0.3...</td>\n",
       "      <td>0</td>\n",
       "      <td>1000</td>\n",
       "      <td>5864</td>\n",
       "      <td>billionairepersonalitydisorder</td>\n",
       "    </tr>\n",
       "    <tr>\n",
       "      <th>1</th>\n",
       "      <td>[[[0.15291857719421387, 0.15291857719421387, 0...</td>\n",
       "      <td>0</td>\n",
       "      <td>1001</td>\n",
       "      <td>5864</td>\n",
       "      <td>billionairepersonalitydisorder</td>\n",
       "    </tr>\n",
       "    <tr>\n",
       "      <th>2</th>\n",
       "      <td>[[[0.1725386381149292, 0.1725386381149292, 0.1...</td>\n",
       "      <td>0</td>\n",
       "      <td>1002</td>\n",
       "      <td>5864</td>\n",
       "      <td>billionairepersonalitydisorder</td>\n",
       "    </tr>\n",
       "    <tr>\n",
       "      <th>3</th>\n",
       "      <td>[[[0.5269443392753601, 0.5269443392753601, 0.5...</td>\n",
       "      <td>0</td>\n",
       "      <td>1003</td>\n",
       "      <td>5864</td>\n",
       "      <td>billionairepersonalitydisorder</td>\n",
       "    </tr>\n",
       "  </tbody>\n",
       "</table>\n",
       "</div>"
      ],
      "text/plain": [
       "                                         spectrogram labels seconds durations  \\\n",
       "0  [[[0.3966400921344757, 0.3966400921344757, 0.3...      0    1000      5864   \n",
       "1  [[[0.15291857719421387, 0.15291857719421387, 0...      0    1001      5864   \n",
       "2  [[[0.1725386381149292, 0.1725386381149292, 0.1...      0    1002      5864   \n",
       "3  [[[0.5269443392753601, 0.5269443392753601, 0.5...      0    1003      5864   \n",
       "\n",
       "                    podcast_names  \n",
       "0  billionairepersonalitydisorder  \n",
       "1  billionairepersonalitydisorder  \n",
       "2  billionairepersonalitydisorder  \n",
       "3  billionairepersonalitydisorder  "
      ]
     },
     "execution_count": 52,
     "metadata": {},
     "output_type": "execute_result"
    }
   ],
   "source": [
    "data#['spectrogram'][0]"
   ]
  },
  {
   "cell_type": "code",
   "execution_count": 27,
   "metadata": {},
   "outputs": [
    {
     "data": {
      "text/plain": [
       "(4, 5)"
      ]
     },
     "execution_count": 27,
     "metadata": {},
     "output_type": "execute_result"
    }
   ],
   "source": [
    "data.shape"
   ]
  },
  {
   "cell_type": "code",
   "execution_count": 37,
   "metadata": {},
   "outputs": [],
   "source": [
    "data_to_upload = [\n",
    "    {\n",
    "        'spectrogram': data[\"spectrogram\"][i],  # Array of floats\n",
    "        'labels': data[\"labels\"][i]     # Corresponding integer\n",
    "    }\n",
    "    for i in range(data.shape[0])\n",
    "]"
   ]
  },
  {
   "cell_type": "code",
   "execution_count": 43,
   "metadata": {},
   "outputs": [
    {
     "data": {
      "text/plain": [
       "0"
      ]
     },
     "execution_count": 43,
     "metadata": {},
     "output_type": "execute_result"
    }
   ],
   "source": [
    "data_to_upload[3][\"labels\"]"
   ]
  },
  {
   "cell_type": "code",
   "execution_count": null,
   "metadata": {},
   "outputs": [],
   "source": []
  },
  {
   "cell_type": "code",
   "execution_count": 46,
   "metadata": {},
   "outputs": [
    {
     "name": "stdout",
     "output_type": "stream",
     "text": [
      "Authenticated successfully with BigQuery! ✅\n"
     ]
    },
    {
     "ename": "BadRequest",
     "evalue": "400 Error while reading data, error message: JSON table encountered too many errors, giving up. Rows: 1; errors: 1. Please look into the errors[] collection for more details.; reason: invalid, message: Error while reading data, error message: JSON table encountered too many errors, giving up. Rows: 1; errors: 1. Please look into the errors[] collection for more details.; reason: invalid, message: Error while reading data, error message: JSON processing encountered too many errors, giving up. Rows: 1; errors: 1; max bad: 0; error percent: 0; reason: invalid, message: Error while reading data, error message: JSON parsing error in row starting at position 0: Nested arrays not allowed.",
     "output_type": "error",
     "traceback": [
      "\u001b[0;31m---------------------------------------------------------------------------\u001b[0m",
      "\u001b[0;31mBadRequest\u001b[0m                                Traceback (most recent call last)",
      "Cell \u001b[0;32mIn[46], line 16\u001b[0m\n\u001b[1;32m      5\u001b[0m job_config \u001b[38;5;241m=\u001b[39m bigquery\u001b[38;5;241m.\u001b[39mLoadJobConfig(\n\u001b[1;32m      6\u001b[0m         write_disposition\u001b[38;5;241m=\u001b[39m\u001b[38;5;124m\"\u001b[39m\u001b[38;5;124mWRITE_APPEND\u001b[39m\u001b[38;5;124m\"\u001b[39m,\n\u001b[1;32m      7\u001b[0m         schema\u001b[38;5;241m=\u001b[39m[\n\u001b[0;32m   (...)\u001b[0m\n\u001b[1;32m     13\u001b[0m         ]\n\u001b[1;32m     14\u001b[0m     )\n\u001b[1;32m     15\u001b[0m job \u001b[38;5;241m=\u001b[39m bq_client\u001b[38;5;241m.\u001b[39mload_table_from_json(data_to_upload, table_id, job_config\u001b[38;5;241m=\u001b[39mjob_config)\n\u001b[0;32m---> 16\u001b[0m \u001b[38;5;28mprint\u001b[39m(\u001b[43mjob\u001b[49m\u001b[38;5;241;43m.\u001b[39;49m\u001b[43mresult\u001b[49m\u001b[43m(\u001b[49m\u001b[43m)\u001b[49m)\n\u001b[1;32m     17\u001b[0m \u001b[38;5;28mprint\u001b[39m(\u001b[38;5;124mf\u001b[39m\u001b[38;5;124m\"\u001b[39m\u001b[38;5;124mAppended rows to \u001b[39m\u001b[38;5;132;01m{\u001b[39;00mtable_id\u001b[38;5;132;01m}\u001b[39;00m\u001b[38;5;124m\"\u001b[39m)\n",
      "File \u001b[0;32m~/.pyenv/versions/3.10.6/envs/podcast-ad-skipper/lib/python3.10/site-packages/google/cloud/bigquery/job/base.py:969\u001b[0m, in \u001b[0;36m_AsyncJob.result\u001b[0;34m(self, retry, timeout)\u001b[0m\n\u001b[1;32m    966\u001b[0m     \u001b[38;5;28mself\u001b[39m\u001b[38;5;241m.\u001b[39m_begin(retry\u001b[38;5;241m=\u001b[39mretry, timeout\u001b[38;5;241m=\u001b[39mtimeout)\n\u001b[1;32m    968\u001b[0m kwargs \u001b[38;5;241m=\u001b[39m {} \u001b[38;5;28;01mif\u001b[39;00m retry \u001b[38;5;129;01mis\u001b[39;00m DEFAULT_RETRY \u001b[38;5;28;01melse\u001b[39;00m {\u001b[38;5;124m\"\u001b[39m\u001b[38;5;124mretry\u001b[39m\u001b[38;5;124m\"\u001b[39m: retry}\n\u001b[0;32m--> 969\u001b[0m \u001b[38;5;28;01mreturn\u001b[39;00m \u001b[38;5;28;43msuper\u001b[39;49m\u001b[43m(\u001b[49m\u001b[43m_AsyncJob\u001b[49m\u001b[43m,\u001b[49m\u001b[43m \u001b[49m\u001b[38;5;28;43mself\u001b[39;49m\u001b[43m)\u001b[49m\u001b[38;5;241;43m.\u001b[39;49m\u001b[43mresult\u001b[49m\u001b[43m(\u001b[49m\u001b[43mtimeout\u001b[49m\u001b[38;5;241;43m=\u001b[39;49m\u001b[43mtimeout\u001b[49m\u001b[43m,\u001b[49m\u001b[43m \u001b[49m\u001b[38;5;241;43m*\u001b[39;49m\u001b[38;5;241;43m*\u001b[39;49m\u001b[43mkwargs\u001b[49m\u001b[43m)\u001b[49m\n",
      "File \u001b[0;32m~/.pyenv/versions/3.10.6/envs/podcast-ad-skipper/lib/python3.10/site-packages/google/api_core/future/polling.py:261\u001b[0m, in \u001b[0;36mPollingFuture.result\u001b[0;34m(self, timeout, retry, polling)\u001b[0m\n\u001b[1;32m    256\u001b[0m \u001b[38;5;28mself\u001b[39m\u001b[38;5;241m.\u001b[39m_blocking_poll(timeout\u001b[38;5;241m=\u001b[39mtimeout, retry\u001b[38;5;241m=\u001b[39mretry, polling\u001b[38;5;241m=\u001b[39mpolling)\n\u001b[1;32m    258\u001b[0m \u001b[38;5;28;01mif\u001b[39;00m \u001b[38;5;28mself\u001b[39m\u001b[38;5;241m.\u001b[39m_exception \u001b[38;5;129;01mis\u001b[39;00m \u001b[38;5;129;01mnot\u001b[39;00m \u001b[38;5;28;01mNone\u001b[39;00m:\n\u001b[1;32m    259\u001b[0m     \u001b[38;5;66;03m# pylint: disable=raising-bad-type\u001b[39;00m\n\u001b[1;32m    260\u001b[0m     \u001b[38;5;66;03m# Pylint doesn't recognize that this is valid in this case.\u001b[39;00m\n\u001b[0;32m--> 261\u001b[0m     \u001b[38;5;28;01mraise\u001b[39;00m \u001b[38;5;28mself\u001b[39m\u001b[38;5;241m.\u001b[39m_exception\n\u001b[1;32m    263\u001b[0m \u001b[38;5;28;01mreturn\u001b[39;00m \u001b[38;5;28mself\u001b[39m\u001b[38;5;241m.\u001b[39m_result\n",
      "\u001b[0;31mBadRequest\u001b[0m: 400 Error while reading data, error message: JSON table encountered too many errors, giving up. Rows: 1; errors: 1. Please look into the errors[] collection for more details.; reason: invalid, message: Error while reading data, error message: JSON table encountered too many errors, giving up. Rows: 1; errors: 1. Please look into the errors[] collection for more details.; reason: invalid, message: Error while reading data, error message: JSON processing encountered too many errors, giving up. Rows: 1; errors: 1; max bad: 0; error percent: 0; reason: invalid, message: Error while reading data, error message: JSON parsing error in row starting at position 0: Nested arrays not allowed."
     ]
    }
   ],
   "source": [
    "table_id = \"podcast-ad-skipper.Numpy_Arrays_Dataset.test4\"\n",
    "bq_client = auth_gc_bigquery()\n",
    "    # Create df out of the np arrays, to upload to bq\n",
    "    # Use WRITE_APPEND to add to the existing table\n",
    "job_config = bigquery.LoadJobConfig(\n",
    "        write_disposition=\"WRITE_APPEND\",\n",
    "        schema=[\n",
    "            bigquery.SchemaField(\"spectrogram\",  \"FLOAT\", mode=\"REPEATED\"),\n",
    "            bigquery.SchemaField(\"labels\", \"INTEGER\")\n",
    "            # bigquery.SchemaField(\"seconds\", \"INTEGER\"),\n",
    "            # bigquery.SchemaField(\"durations\", \"INTEGER\"),\n",
    "            # bigquery.SchemaField(\"podcast_names\", \"STRING\")\n",
    "        ]\n",
    "    )\n",
    "job = bq_client.load_table_from_json(data_to_upload, table_id, job_config=job_config)\n",
    "print(job.result())\n",
    "print(f\"Appended rows to {table_id}\")"
   ]
  },
  {
   "cell_type": "code",
   "execution_count": 14,
   "metadata": {},
   "outputs": [],
   "source": [
    "table_id = f\"{GCP_PROJECT_ID}.{BQ_DATASET}.{BQ_TABLE}\""
   ]
  },
  {
   "cell_type": "code",
   "execution_count": 13,
   "metadata": {},
   "outputs": [
    {
     "data": {
      "text/plain": [
       "<google.cloud.bigquery.table.RowIterator at 0x13c7fafb0>"
      ]
     },
     "execution_count": 13,
     "metadata": {},
     "output_type": "execute_result"
    }
   ],
   "source": [
    "client = bq_client\n",
    "query = \"\"\"\n",
    "SELECT spectrogram from podcast-ad-skipper.Numpy_Arrays_Dataset.test3\n",
    "\"\"\"\n",
    "\n",
    "    # Run the query\n",
    "query_job = client.query(query)  # Make an API request.\n",
    "\n",
    "    # Wait for the job to complete and get the results\n",
    "results = query_job.result()  # Waits for the job to complete.\n",
    "\n",
    "results\n"
   ]
  },
  {
   "cell_type": "code",
   "execution_count": 14,
   "metadata": {},
   "outputs": [],
   "source": [
    "for row in results:\n",
    "    test = row[0]"
   ]
  },
  {
   "cell_type": "code",
   "execution_count": 15,
   "metadata": {},
   "outputs": [
    {
     "data": {
      "text/plain": [
       "array('[[[0.52694434 0.52694434 0.52694434]\\n  [0.20000769 0.20000769 0.20000769]\\n  [0.29453546 0.29453546 0.29453546]\\n  ...\\n  [0.1793058  0.1793058  0.1793058 ]\\n  [0.17196724 0.17196724 0.17196724]\\n  [0.18345404 0.18345404 0.18345404]]\\n\\n [[0.5398639  0.5398639  0.5398639 ]\\n  [0.23499829 0.23499829 0.23499829]\\n  [0.39060026 0.39060026 0.39060026]\\n  ...\\n  [0.29102594 0.29102594 0.29102594]\\n  [0.3723137  0.3723137  0.3723137 ]\\n  [0.25340876 0.25340876 0.25340876]]\\n\\n [[0.57968205 0.57968205 0.57968205]\\n  [0.393878   0.393878   0.393878  ]\\n  [0.47804725 0.47804725 0.47804725]\\n  ...\\n  [0.5705231  0.5705231  0.5705231 ]\\n  [0.57804185 0.57804185 0.57804185]\\n  [0.32729322 0.32729322 0.32729322]]\\n\\n ...\\n\\n [[0.12095577 0.12095577 0.12095577]\\n  [0.3135188  0.3135188  0.3135188 ]\\n  [0.3265841  0.3265841  0.3265841 ]\\n  ...\\n  [0.08064917 0.08064917 0.08064917]\\n  [0.28398946 0.28398946 0.28398946]\\n  [0.3297113  0.3297113  0.3297113 ]]\\n\\n [[0.1271886  0.1271886  0.1271886 ]\\n  [0.2362189  0.2362189  0.2362189 ]\\n  [0.3098812  0.3098812  0.3098812 ]\\n  ...\\n  [0.05110472 0.05110472 0.05110472]\\n  [0.27328148 0.27328148 0.27328148]\\n  [0.32059935 0.32059935 0.32059935]]\\n\\n [[0.08692912 0.08692912 0.08692912]\\n  [0.07774198 0.07774198 0.07774198]\\n  [0.15217207 0.15217207 0.15217207]\\n  ...\\n  [0.02489789 0.02489789 0.02489789]\\n  [0.1198751  0.1198751  0.1198751 ]\\n  [0.19521615 0.19521615 0.19521615]]]',\n",
       "      dtype='<U1385')"
      ]
     },
     "execution_count": 15,
     "metadata": {},
     "output_type": "execute_result"
    }
   ],
   "source": [
    "np.array(test)"
   ]
  },
  {
   "cell_type": "code",
   "execution_count": 22,
   "metadata": {},
   "outputs": [
    {
     "data": {
      "text/plain": [
       "'[[[0.52694434,0.52694434,0.52694434]\\n,,[0.20000769,0.20000769,0.20000769]\\n,,[0.29453546,0.29453546,0.29453546]\\n,,...\\n,,[0.1793058,,0.1793058,,0.1793058,]\\n,,[0.17196724,0.17196724,0.17196724]\\n,,[0.18345404,0.18345404,0.18345404]]\\n\\n,[[0.5398639,,0.5398639,,0.5398639,]\\n,,[0.23499829,0.23499829,0.23499829]\\n,,[0.39060026,0.39060026,0.39060026]\\n,,...\\n,,[0.29102594,0.29102594,0.29102594]\\n,,[0.3723137,,0.3723137,,0.3723137,]\\n,,[0.25340876,0.25340876,0.25340876]]\\n\\n,[[0.57968205,0.57968205,0.57968205]\\n,,[0.393878,,,0.393878,,,0.393878,,]\\n,,[0.47804725,0.47804725,0.47804725]\\n,,...\\n,,[0.5705231,,0.5705231,,0.5705231,]\\n,,[0.57804185,0.57804185,0.57804185]\\n,,[0.32729322,0.32729322,0.32729322]]\\n\\n,...\\n\\n,[[0.12095577,0.12095577,0.12095577]\\n,,[0.3135188,,0.3135188,,0.3135188,]\\n,,[0.3265841,,0.3265841,,0.3265841,]\\n,,...\\n,,[0.08064917,0.08064917,0.08064917]\\n,,[0.28398946,0.28398946,0.28398946]\\n,,[0.3297113,,0.3297113,,0.3297113,]]\\n\\n,[[0.1271886,,0.1271886,,0.1271886,]\\n,,[0.2362189,,0.2362189,,0.2362189,]\\n,,[0.3098812,,0.3098812,,0.3098812,]\\n,,...\\n,,[0.05110472,0.05110472,0.05110472]\\n,,[0.27328148,0.27328148,0.27328148]\\n,,[0.32059935,0.32059935,0.32059935]]\\n\\n,[[0.08692912,0.08692912,0.08692912]\\n,,[0.07774198,0.07774198,0.07774198]\\n,,[0.15217207,0.15217207,0.15217207]\\n,,...\\n,,[0.02489789,0.02489789,0.02489789]\\n,,[0.1198751,,0.1198751,,0.1198751,]\\n,,[0.19521615,0.19521615,0.19521615]]]'"
      ]
     },
     "execution_count": 22,
     "metadata": {},
     "output_type": "execute_result"
    }
   ],
   "source": [
    "test.replace(\" \", \",\")"
   ]
  },
  {
   "cell_type": "code",
   "execution_count": null,
   "metadata": {},
   "outputs": [],
   "source": []
  }
 ],
 "metadata": {
  "kernelspec": {
   "display_name": "podcast-ad-skipper",
   "language": "python",
   "name": "python3"
  },
  "language_info": {
   "codemirror_mode": {
    "name": "ipython",
    "version": 3
   },
   "file_extension": ".py",
   "mimetype": "text/x-python",
   "name": "python",
   "nbconvert_exporter": "python",
   "pygments_lexer": "ipython3",
   "version": "3.10.6"
  }
 },
 "nbformat": 4,
 "nbformat_minor": 2
}
