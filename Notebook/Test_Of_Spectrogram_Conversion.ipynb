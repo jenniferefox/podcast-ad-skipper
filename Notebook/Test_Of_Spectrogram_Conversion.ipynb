{
 "cells": [
  {
   "cell_type": "code",
   "execution_count": 12,
   "id": "4b1b6624-b0a3-4316-afb5-19678ef34757",
   "metadata": {},
   "outputs": [
    {
     "ename": "ModuleNotFoundError",
     "evalue": "No module named 'termcolor'",
     "output_type": "error",
     "traceback": [
      "\u001b[0;31m---------------------------------------------------------------------------\u001b[0m",
      "\u001b[0;31mModuleNotFoundError\u001b[0m                       Traceback (most recent call last)",
      "Cell \u001b[0;32mIn[12], line 12\u001b[0m\n\u001b[1;32m     10\u001b[0m \u001b[38;5;28;01mfrom\u001b[39;00m \u001b[38;5;21;01mgoogle\u001b[39;00m\u001b[38;5;21;01m.\u001b[39;00m\u001b[38;5;21;01moauth2\u001b[39;00m \u001b[38;5;28;01mimport\u001b[39;00m service_account\n\u001b[1;32m     11\u001b[0m \u001b[38;5;28;01mfrom\u001b[39;00m \u001b[38;5;21;01mgoogle\u001b[39;00m\u001b[38;5;21;01m.\u001b[39;00m\u001b[38;5;21;01mcloud\u001b[39;00m \u001b[38;5;28;01mimport\u001b[39;00m bigquery\n\u001b[0;32m---> 12\u001b[0m \u001b[38;5;28;01mfrom\u001b[39;00m \u001b[38;5;21;01mtermcolor\u001b[39;00m \u001b[38;5;28;01mimport\u001b[39;00m colored\n",
      "\u001b[0;31mModuleNotFoundError\u001b[0m: No module named 'termcolor'"
     ]
    }
   ],
   "source": [
    "from google.cloud import storage\n",
    "import os\n",
    "from dotenv import load_dotenv\n",
    "import json\n",
    "import sys\n",
    "import pandas as pd\n",
    "\n",
    "from google.auth.exceptions import GoogleAuthError\n",
    "from google.cloud import storage\n",
    "from google.oauth2 import service_account\n",
    "from google.cloud import bigquery\n",
    "from termcolor import colored\n",
    "\n"
   ]
  },
  {
   "cell_type": "code",
   "execution_count": 4,
   "id": "eec5f3ff-d88c-4851-b0fc-295b05d815e4",
   "metadata": {},
   "outputs": [],
   "source": [
    "BUCKET_NAME='podcast-ad-skipper'"
   ]
  },
  {
   "cell_type": "code",
   "execution_count": 6,
   "id": "21a3048d-548e-4bfa-9145-5797107f136b",
   "metadata": {},
   "outputs": [],
   "source": [
    "def auth_gc():\n",
    "    \"\"\"Authenticates and returns a Google Cloud Storage client using service account credentials\"\"\"\n",
    "    try:\n",
    "        with open('gcp/podcast-ad-skipper-0dd8dd2c5ac1.json') as source:\n",
    "            info = json.load(source)\n",
    "\n",
    "        storage_credentials = service_account.Credentials.from_service_account_info(info)\n",
    "\n",
    "        storage_client = storage.Client(project=os.environ.get('GCP_PROJECT_ID'), credentials=storage_credentials)\n",
    "\n",
    "        print(\"Authenticated successfully! ✅\")\n",
    "        return storage_client\n",
    "\n",
    "    except FileNotFoundError:\n",
    "        print(\"Error: The specified credentials file 'gcp/file_name.json' was not found.\")\n",
    "        print(colored(\"Failed to authenticate with Google Cloud Storage ❌\", \"red\"))\n",
    "        sys.exit(1)\n",
    "\n",
    "    except GoogleAuthError as e:\n",
    "        print(f\"Error: Authentication failed with Google Cloud: {e}\")\n",
    "        print(colored(\"Failed to authenticate with Google Cloud Storage ❌\", \"red\"))\n",
    "        sys.exit(1)\n",
    "\n",
    "    except Exception as e:\n",
    "        print(f\"An unexpected error occurred: {e}\")\n",
    "        print(colored(\"Failed to authenticate with Google Cloud Storage ❌\", \"red\"))\n",
    "        sys.exit(1)"
   ]
  },
  {
   "cell_type": "code",
   "execution_count": 7,
   "id": "3a3cfd29-4d63-4b63-9d33-77b67522a8ae",
   "metadata": {},
   "outputs": [
    {
     "name": "stdout",
     "output_type": "stream",
     "text": [
      "Error: The specified credentials file 'gcp/file_name.json' was not found.\n"
     ]
    },
    {
     "ename": "NameError",
     "evalue": "name 'colored' is not defined",
     "output_type": "error",
     "traceback": [
      "\u001b[0;31m---------------------------------------------------------------------------\u001b[0m",
      "\u001b[0;31mFileNotFoundError\u001b[0m                         Traceback (most recent call last)",
      "Cell \u001b[0;32mIn[6], line 4\u001b[0m, in \u001b[0;36mauth_gc\u001b[0;34m()\u001b[0m\n\u001b[1;32m      3\u001b[0m \u001b[38;5;28;01mtry\u001b[39;00m:\n\u001b[0;32m----> 4\u001b[0m     \u001b[38;5;28;01mwith\u001b[39;00m \u001b[38;5;28;43mopen\u001b[39;49m\u001b[43m(\u001b[49m\u001b[38;5;124;43m'\u001b[39;49m\u001b[38;5;124;43mgcp/podcast-ad-skipper-0dd8dd2c5ac1.json\u001b[39;49m\u001b[38;5;124;43m'\u001b[39;49m\u001b[43m)\u001b[49m \u001b[38;5;28;01mas\u001b[39;00m source:\n\u001b[1;32m      5\u001b[0m         info \u001b[38;5;241m=\u001b[39m json\u001b[38;5;241m.\u001b[39mload(source)\n",
      "File \u001b[0;32m~/.pyenv/versions/3.10.6/envs/podcast-ad-skipper/lib/python3.10/site-packages/IPython/core/interactiveshell.py:324\u001b[0m, in \u001b[0;36m_modified_open\u001b[0;34m(file, *args, **kwargs)\u001b[0m\n\u001b[1;32m    318\u001b[0m     \u001b[38;5;28;01mraise\u001b[39;00m \u001b[38;5;167;01mValueError\u001b[39;00m(\n\u001b[1;32m    319\u001b[0m         \u001b[38;5;124mf\u001b[39m\u001b[38;5;124m\"\u001b[39m\u001b[38;5;124mIPython won\u001b[39m\u001b[38;5;124m'\u001b[39m\u001b[38;5;124mt let you open fd=\u001b[39m\u001b[38;5;132;01m{\u001b[39;00mfile\u001b[38;5;132;01m}\u001b[39;00m\u001b[38;5;124m by default \u001b[39m\u001b[38;5;124m\"\u001b[39m\n\u001b[1;32m    320\u001b[0m         \u001b[38;5;124m\"\u001b[39m\u001b[38;5;124mas it is likely to crash IPython. If you know what you are doing, \u001b[39m\u001b[38;5;124m\"\u001b[39m\n\u001b[1;32m    321\u001b[0m         \u001b[38;5;124m\"\u001b[39m\u001b[38;5;124myou can use builtins\u001b[39m\u001b[38;5;124m'\u001b[39m\u001b[38;5;124m open.\u001b[39m\u001b[38;5;124m\"\u001b[39m\n\u001b[1;32m    322\u001b[0m     )\n\u001b[0;32m--> 324\u001b[0m \u001b[38;5;28;01mreturn\u001b[39;00m \u001b[43mio_open\u001b[49m\u001b[43m(\u001b[49m\u001b[43mfile\u001b[49m\u001b[43m,\u001b[49m\u001b[43m \u001b[49m\u001b[38;5;241;43m*\u001b[39;49m\u001b[43margs\u001b[49m\u001b[43m,\u001b[49m\u001b[43m \u001b[49m\u001b[38;5;241;43m*\u001b[39;49m\u001b[38;5;241;43m*\u001b[39;49m\u001b[43mkwargs\u001b[49m\u001b[43m)\u001b[49m\n",
      "\u001b[0;31mFileNotFoundError\u001b[0m: [Errno 2] No such file or directory: 'gcp/podcast-ad-skipper-0dd8dd2c5ac1.json'",
      "\nDuring handling of the above exception, another exception occurred:\n",
      "\u001b[0;31mNameError\u001b[0m                                 Traceback (most recent call last)",
      "Cell \u001b[0;32mIn[7], line 1\u001b[0m\n\u001b[0;32m----> 1\u001b[0m storage_client \u001b[38;5;241m=\u001b[39m \u001b[43mauth_gc\u001b[49m\u001b[43m(\u001b[49m\u001b[43m)\u001b[49m\n",
      "Cell \u001b[0;32mIn[6], line 16\u001b[0m, in \u001b[0;36mauth_gc\u001b[0;34m()\u001b[0m\n\u001b[1;32m     14\u001b[0m \u001b[38;5;28;01mexcept\u001b[39;00m \u001b[38;5;167;01mFileNotFoundError\u001b[39;00m:\n\u001b[1;32m     15\u001b[0m     \u001b[38;5;28mprint\u001b[39m(\u001b[38;5;124m\"\u001b[39m\u001b[38;5;124mError: The specified credentials file \u001b[39m\u001b[38;5;124m'\u001b[39m\u001b[38;5;124mgcp/file_name.json\u001b[39m\u001b[38;5;124m'\u001b[39m\u001b[38;5;124m was not found.\u001b[39m\u001b[38;5;124m\"\u001b[39m)\n\u001b[0;32m---> 16\u001b[0m     \u001b[38;5;28mprint\u001b[39m(\u001b[43mcolored\u001b[49m(\u001b[38;5;124m\"\u001b[39m\u001b[38;5;124mFailed to authenticate with Google Cloud Storage ❌\u001b[39m\u001b[38;5;124m\"\u001b[39m, \u001b[38;5;124m\"\u001b[39m\u001b[38;5;124mred\u001b[39m\u001b[38;5;124m\"\u001b[39m))\n\u001b[1;32m     17\u001b[0m     sys\u001b[38;5;241m.\u001b[39mexit(\u001b[38;5;241m1\u001b[39m)\n\u001b[1;32m     19\u001b[0m \u001b[38;5;28;01mexcept\u001b[39;00m GoogleAuthError \u001b[38;5;28;01mas\u001b[39;00m e:\n",
      "\u001b[0;31mNameError\u001b[0m: name 'colored' is not defined"
     ]
    }
   ],
   "source": [
    "storage_client = auth_gc()"
   ]
  },
  {
   "cell_type": "code",
   "execution_count": 10,
   "id": "9d5d391b-bb61-4e00-88fb-b947aabb3ef2",
   "metadata": {},
   "outputs": [],
   "source": [
    "def create_spectrogram(audio_file):\n",
    "    #y is an array representing the frequency of the audio signal at each sample.\n",
    "    #sr is the sampling rate (samples per second),\n",
    "    y, sr = librosa.load(audio_file)\n",
    "    spectrogram = librosa.stft(y)\n",
    "\n",
    "    #Transforms to decibel scale (logarithmic), which gives more emphasis to amplitude changes in high volumes\n",
    "    spectrogram_db = librosa.amplitude_to_db(abs(spectrogram))\n",
    "    return spectrogram_db"
   ]
  },
  {
   "cell_type": "code",
   "execution_count": 11,
   "id": "ebaa43fd-e3dc-4e3d-b68c-06df38f45596",
   "metadata": {},
   "outputs": [],
   "source": [
    "def spectrogram_to_numpy(spectrogram_db):\n",
    "    return np.array(spectrogram_db)\n"
   ]
  },
  {
   "cell_type": "code",
   "execution_count": 14,
   "id": "01e77f2e-e670-48a7-b575-08b7fe3c7af6",
   "metadata": {},
   "outputs": [],
   "source": [
    "def process_audio_file(BUCKET_NAME, blob_name):\n",
    "    bucket = storage_client.bucket(BUCKET_NAME)\n",
    "    blob = bucket.blob(blob_name)\n",
    "\n",
    "    with blob.open('rb') as blob_file:\n",
    "        file_data = blob.file.read()\n",
    "\n",
    "    spectrogram_db = create_spectrogram(file_data)\n",
    "    spectrogram_to_numpy(file_data)"
   ]
  },
  {
   "cell_type": "code",
   "execution_count": 15,
   "id": "296e8463-54c8-4886-8384-0c21854e2d93",
   "metadata": {},
   "outputs": [],
   "source": [
    "list_np_arrays = []\n",
    "\n",
    "def process_all_audio_files_in_bucket(BUCKET_NAME):\n",
    "    bucket = storage_client.bucket(BUCKET_NAME)\n",
    "    blob_list = bucket.list_blobs()\n",
    "    for blob in blob_list:\n",
    "        np_array = process_audio_file(BUCKET_NAME, blob)\n",
    "        list_np_arrays.append(np_array)\n",
    "        "
   ]
  },
  {
   "cell_type": "code",
   "execution_count": 16,
   "id": "f558de46-1b26-403a-b12e-f9aadd97f1e1",
   "metadata": {},
   "outputs": [
    {
     "data": {
      "text/plain": [
       "0"
      ]
     },
     "execution_count": 16,
     "metadata": {},
     "output_type": "execute_result"
    }
   ],
   "source": [
    "len(list_np_arrays)\n"
   ]
  },
  {
   "cell_type": "code",
   "execution_count": 18,
   "id": "d22029d1-c2f8-4e1b-8e25-2320bbb5ec9c",
   "metadata": {},
   "outputs": [
    {
     "ename": "IndexError",
     "evalue": "list index out of range",
     "output_type": "error",
     "traceback": [
      "\u001b[0;31m---------------------------------------------------------------------------\u001b[0m",
      "\u001b[0;31mIndexError\u001b[0m                                Traceback (most recent call last)",
      "Cell \u001b[0;32mIn[18], line 1\u001b[0m\n\u001b[0;32m----> 1\u001b[0m \u001b[43mlist_np_arrays\u001b[49m\u001b[43m[\u001b[49m\u001b[38;5;241;43m0\u001b[39;49m\u001b[43m]\u001b[49m\u001b[38;5;241m.\u001b[39mshape()\n",
      "\u001b[0;31mIndexError\u001b[0m: list index out of range"
     ]
    }
   ],
   "source": [
    "list_np_arrays[0].shape()"
   ]
  },
  {
   "cell_type": "code",
   "execution_count": null,
   "id": "cacf3ec8-2519-4ad4-80e1-fd942994fefd",
   "metadata": {},
   "outputs": [],
   "source": []
  }
 ],
 "metadata": {
  "kernelspec": {
   "display_name": "Python 3 (ipykernel)",
   "language": "python",
   "name": "python3"
  },
  "language_info": {
   "codemirror_mode": {
    "name": "ipython",
    "version": 3
   },
   "file_extension": ".py",
   "mimetype": "text/x-python",
   "name": "python",
   "nbconvert_exporter": "python",
   "pygments_lexer": "ipython3",
   "version": "3.10.6"
  }
 },
 "nbformat": 4,
 "nbformat_minor": 5
}
