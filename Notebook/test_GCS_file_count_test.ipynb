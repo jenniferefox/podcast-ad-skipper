{
 "cells": [
  {
   "cell_type": "code",
   "execution_count": 18,
   "metadata": {},
   "outputs": [],
   "source": [
    "from podcast_ad_skipper.google_cloud import count_files_in_gcs\n",
    "from podcast_ad_skipper.params import *"
   ]
  },
  {
   "cell_type": "code",
   "execution_count": 11,
   "metadata": {},
   "outputs": [],
   "source": [
    "prefixes = GCP_PREFIXES"
   ]
  },
  {
   "cell_type": "code",
   "execution_count": 12,
   "metadata": {},
   "outputs": [
    {
     "name": "stdout",
     "output_type": "stream",
     "text": [
      "Running in local environment.\n",
      "Authenticated successfully with GCS! ✅\n",
      "billionairepersonalitydisorder: 5837\n",
      "bitcoinminingdecentralizationwiththedatumprotocolatoceanmining: 3574\n",
      "ceo181: 669\n",
      "changesinthebigapple: 2545\n",
      "differentdays: 5038\n",
      "donaldtrumpjoinstheshow: 3670\n",
      "dreamingofpolarnightinsvalbard: 3668\n",
      "drewbarrymoreasksaboutboogers: 3475\n",
      "electionspecial: 2852\n",
      "farking&thelyingjester: 4292\n",
      "guenthersteinerlifeontheothersideoff1: 2611\n",
      "israelatwaroneyearon: 3577\n",
      "knowingwhoyouare: 4248\n",
      "nstaaf1: 3545\n",
      "offmenu263: 4803\n",
      "parentingHell908: 3408\n",
      "quintabrunson: 4053\n",
      "rabbitceojesselyuisnotthinkingtoofaradead: 5056\n",
      "rupikauropensupifetinvisible: 4880\n",
      "survivingahurricaneEp01: 7161\n",
      "theproblemwithfancygrocerystoresftgwyneddstuartEp01: 5056\n",
      "whatishiddeninyourwordsEp01: 3227\n",
      "whenbitterbcamessweet: 4016\n"
     ]
    }
   ],
   "source": [
    "count_files_in_gcs(prefixes)"
   ]
  },
  {
   "cell_type": "code",
   "execution_count": 23,
   "metadata": {},
   "outputs": [
    {
     "data": {
      "text/plain": [
       "'trevornoah/'"
      ]
     },
     "execution_count": 23,
     "metadata": {},
     "output_type": "execute_result"
    }
   ],
   "source": [
    "GCP_PREFIXES[20]"
   ]
  },
  {
   "cell_type": "code",
   "execution_count": null,
   "metadata": {},
   "outputs": [],
   "source": []
  }
 ],
 "metadata": {
  "kernelspec": {
   "display_name": "podcast-ad-skipper",
   "language": "python",
   "name": "python3"
  },
  "language_info": {
   "codemirror_mode": {
    "name": "ipython",
    "version": 3
   },
   "file_extension": ".py",
   "mimetype": "text/x-python",
   "name": "python",
   "nbconvert_exporter": "python",
   "pygments_lexer": "ipython3",
   "version": "3.10.6"
  }
 },
 "nbformat": 4,
 "nbformat_minor": 2
}
