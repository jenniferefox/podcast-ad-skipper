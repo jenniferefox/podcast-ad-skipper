{
 "cells": [
  {
   "cell_type": "code",
   "execution_count": 12,
   "metadata": {},
   "outputs": [],
   "source": [
    "from podcast_ad_skipper.google_cloud import auth_gc_storage, get_bucket_blobs, open_file_bytes_gcs\n",
    "from podcast_ad_skipper.params import BUCKET_NAME, PREFIXES_PODCAST_AD_SKIPPER\n",
    "from podcast_ad_skipper.Spectrogram_Conversion import create_spectrogram, spectrogram_to_numpy\n",
    "import pandas as pd"
   ]
  },
  {
   "cell_type": "code",
   "execution_count": 13,
   "metadata": {},
   "outputs": [
    {
     "name": "stdout",
     "output_type": "stream",
     "text": [
      "Running in local environment.\n",
      "Authenticated successfully! ✅\n"
     ]
    }
   ],
   "source": [
    "storage_client = auth_gc_storage()"
   ]
  },
  {
   "cell_type": "code",
   "execution_count": 28,
   "metadata": {},
   "outputs": [
    {
     "name": "stdout",
     "output_type": "stream",
     "text": [
      "Fetching file names within billionairepersonalitydisorder\n",
      "CPU times: user 307 ms, sys: 86.7 ms, total: 393 ms\n",
      "Wall time: 5.9 s\n"
     ]
    }
   ],
   "source": [
    "%%time\n",
    "def process_audio_to_array():\n",
    "    spectrogram = []\n",
    "    file_names = []\n",
    "    audio_files = get_bucket_blobs(storage_client, BUCKET_NAME, prefix_name=PREFIXES_PODCAST_AD_SKIPPER[0])\n",
    "    for file in audio_files[:6]:\n",
    "        spectrogram.append(create_spectrogram(open_file_bytes_gcs(storage_client,BUCKET_NAME, file)))\n",
    "        file_names.append(file)"
   ]
  },
  {
   "cell_type": "code",
   "execution_count": 52,
   "metadata": {},
   "outputs": [
    {
     "data": {
      "text/html": [
       "<div>\n",
       "<style scoped>\n",
       "    .dataframe tbody tr th:only-of-type {\n",
       "        vertical-align: middle;\n",
       "    }\n",
       "\n",
       "    .dataframe tbody tr th {\n",
       "        vertical-align: top;\n",
       "    }\n",
       "\n",
       "    .dataframe thead th {\n",
       "        text-align: right;\n",
       "    }\n",
       "</style>\n",
       "<table border=\"1\" class=\"dataframe\">\n",
       "  <thead>\n",
       "    <tr style=\"text-align: right;\">\n",
       "      <th></th>\n",
       "      <th>spectrogram</th>\n",
       "      <th>audio_name</th>\n",
       "      <th>podcast</th>\n",
       "      <th>target</th>\n",
       "    </tr>\n",
       "  </thead>\n",
       "  <tbody>\n",
       "    <tr>\n",
       "      <th>0</th>\n",
       "      <td>[[-10.198136, -15.113926, -29.613918, -34.0596...</td>\n",
       "      <td>0_1000_5864_billionairepersonalitydisorder.wav</td>\n",
       "      <td>billionairepersonalitydisorder</td>\n",
       "      <td>0</td>\n",
       "    </tr>\n",
       "    <tr>\n",
       "      <th>1</th>\n",
       "      <td>[[-23.87819, -17.765188, -13.982945, -13.15324...</td>\n",
       "      <td>0_1001_5864_billionairepersonalitydisorder.wav</td>\n",
       "      <td>billionairepersonalitydisorder</td>\n",
       "      <td>0</td>\n",
       "    </tr>\n",
       "    <tr>\n",
       "      <th>2</th>\n",
       "      <td>[[-27.883215, -37.33117, -30.988182, -23.25725...</td>\n",
       "      <td>0_1002_5864_billionairepersonalitydisorder.wav</td>\n",
       "      <td>billionairepersonalitydisorder</td>\n",
       "      <td>0</td>\n",
       "    </tr>\n",
       "    <tr>\n",
       "      <th>3</th>\n",
       "      <td>[[0.68409735, -6.135607, -37.878742, -21.39421...</td>\n",
       "      <td>0_1003_5864_billionairepersonalitydisorder.wav</td>\n",
       "      <td>billionairepersonalitydisorder</td>\n",
       "      <td>0</td>\n",
       "    </tr>\n",
       "    <tr>\n",
       "      <th>4</th>\n",
       "      <td>[[-24.717999, -22.507784, -23.017532, -24.7918...</td>\n",
       "      <td>0_1004_5864_billionairepersonalitydisorder.wav</td>\n",
       "      <td>billionairepersonalitydisorder</td>\n",
       "      <td>0</td>\n",
       "    </tr>\n",
       "    <tr>\n",
       "      <th>5</th>\n",
       "      <td>[[-29.806955, -26.870249, -29.550198, -22.8741...</td>\n",
       "      <td>0_1005_5864_billionairepersonalitydisorder.wav</td>\n",
       "      <td>billionairepersonalitydisorder</td>\n",
       "      <td>0</td>\n",
       "    </tr>\n",
       "  </tbody>\n",
       "</table>\n",
       "</div>"
      ],
      "text/plain": [
       "                                         spectrogram  \\\n",
       "0  [[-10.198136, -15.113926, -29.613918, -34.0596...   \n",
       "1  [[-23.87819, -17.765188, -13.982945, -13.15324...   \n",
       "2  [[-27.883215, -37.33117, -30.988182, -23.25725...   \n",
       "3  [[0.68409735, -6.135607, -37.878742, -21.39421...   \n",
       "4  [[-24.717999, -22.507784, -23.017532, -24.7918...   \n",
       "5  [[-29.806955, -26.870249, -29.550198, -22.8741...   \n",
       "\n",
       "                                       audio_name  \\\n",
       "0  0_1000_5864_billionairepersonalitydisorder.wav   \n",
       "1  0_1001_5864_billionairepersonalitydisorder.wav   \n",
       "2  0_1002_5864_billionairepersonalitydisorder.wav   \n",
       "3  0_1003_5864_billionairepersonalitydisorder.wav   \n",
       "4  0_1004_5864_billionairepersonalitydisorder.wav   \n",
       "5  0_1005_5864_billionairepersonalitydisorder.wav   \n",
       "\n",
       "                          podcast target  \n",
       "0  billionairepersonalitydisorder      0  \n",
       "1  billionairepersonalitydisorder      0  \n",
       "2  billionairepersonalitydisorder      0  \n",
       "3  billionairepersonalitydisorder      0  \n",
       "4  billionairepersonalitydisorder      0  \n",
       "5  billionairepersonalitydisorder      0  "
      ]
     },
     "execution_count": 52,
     "metadata": {},
     "output_type": "execute_result"
    }
   ],
   "source": [
    "pd.DataFrame({\n",
    "    \"spectrogram\": spectrogram,\n",
    "    \"audio_name\": [f.split('/')[1] for f in file_names],\n",
    "    \"podcast\": [f.split('/')[0] for f in file_names],\n",
    "    \"target\": [f.split('/')[1].split(\"_\")[0] for f in file_names]\n",
    "    }\n",
    ")"
   ]
  },
  {
   "cell_type": "code",
   "execution_count": null,
   "metadata": {},
   "outputs": [],
   "source": []
  }
 ],
 "metadata": {
  "kernelspec": {
   "display_name": "podcast-ad-skipper",
   "language": "python",
   "name": "python3"
  },
  "language_info": {
   "codemirror_mode": {
    "name": "ipython",
    "version": 3
   },
   "file_extension": ".py",
   "mimetype": "text/x-python",
   "name": "python",
   "nbconvert_exporter": "python",
   "pygments_lexer": "ipython3",
   "version": "3.10.6"
  }
 },
 "nbformat": 4,
 "nbformat_minor": 2
}
