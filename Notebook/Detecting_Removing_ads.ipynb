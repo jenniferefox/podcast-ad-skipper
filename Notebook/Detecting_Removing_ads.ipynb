{
 "cells": [
  {
   "cell_type": "markdown",
   "metadata": {},
   "source": [
    "Steps for Ad Detection and Ad Removal:\n",
    "1. Generate Predictions from Your Model\n",
    "2. Determine Ad Start and End Times\n",
    "3. Remove the Ads Based on Predictions"
   ]
  },
  {
   "cell_type": "code",
   "execution_count": 1,
   "metadata": {},
   "outputs": [],
   "source": [
    "# Libraries:\n",
    "import os\n",
    "from pydub import AudioSegment\n",
    "import numpy as np\n",
    "import librosa"
   ]
  },
  {
   "cell_type": "markdown",
   "metadata": {},
   "source": [
    "# Detecting Ads:"
   ]
  },
  {
   "cell_type": "code",
   "execution_count": null,
   "metadata": {},
   "outputs": [],
   "source": [
    "def detect_ads(podcast_file, model, clip_duration=5):\n",
    "    \"\"\"\n",
    "    This function splits the podcast into clips, creates spectrograms, and passes them to the model to detect ads.\n",
    "    podcast_file: Path to the podcast audio file (mp3)\n",
    "    model: The trained model for ad detection\n",
    "    clip_duration: Duration of each clip in seconds (default 5)\n",
    "    return: List of ad segments (start_time, end_time) in seconds\n",
    "    \"\"\"\n",
    "\n",
    "    # Load the podcast file\n",
    "    podcast = AudioSegment.from_file(podcast_file) # Load the new podcast file\n",
    "    podcast_duration = len(podcast) / 1000  # Duration in seconds\n",
    "\n",
    "    # List to hold the ad segments\n",
    "    ad_segments = []\n",
    "\n",
    "    # Process the podcast in chunks of clip_duration seconds\n",
    "    for i in range(0, int(podcast_duration), clip_duration):\n",
    "        start_time = i * 1000  # Convert to milliseconds\n",
    "        end_time = (i + clip_duration) * 1000\n",
    "\n",
    "        # Extract the clip from the podcast\n",
    "        clip = podcast[start_time:end_time]\n",
    "\n",
    "        # Save the clip as a temporary wav file (for librosa to process)\n",
    "        clip_file = \"temp_clip.wav\"\n",
    "        clip.export(clip_file, format=\"wav\")\n",
    "\n",
    "        # Create a spectrogram for the clip\n",
    "        spectrogram = create_spectrogram(clip_file) # We already have this function\n",
    "\n",
    "        # Convert the spectrogram to a numpy array and pass it to the model\n",
    "        spectrogram_np = np.expand_dims(spectrogram, axis=0)  # Add batch dimension\n",
    "        prediction = model.predict(spectrogram_np) # Use the model to predict\n",
    "\n",
    "        # If the model predicts 'ad' it will mark this segment as an ad (1)\n",
    "        if prediction == 1:\n",
    "            ad_segments.append((i, i + clip_duration))\n",
    "\n",
    "        # Clean up the temporary file\n",
    "        os.remove(clip_file)\n",
    "\n",
    "    return ad_segments\n",
    "\n",
    "# Spectrogram creation function (we already have this)\n",
    "def create_spectrogram(audio_file_wav):\n",
    "    data, sample_rate = librosa.load(audio_file_wav, sr=None)\n",
    "    spectrogram = librosa.stft(data)\n",
    "    spectrogram_db = librosa.amplitude_to_db(abs(spectrogram))\n",
    "    return spectrogram_db\n"
   ]
  },
  {
   "cell_type": "markdown",
   "metadata": {},
   "source": [
    "# Removing Ads:"
   ]
  },
  {
   "cell_type": "code",
   "execution_count": null,
   "metadata": {},
   "outputs": [],
   "source": [
    "def remove_ads_from_podcast(podcast_file, ad_segments):\n",
    "    \"\"\"\n",
    "    Removes the ad segments from the podcast and returns an ad-free podcast.\n",
    "    podcast_file: Path to the podcast audio file\n",
    "    ad_segments: List of tuples with (start_time, end_time) of ads in seconds\n",
    "    return: An AudioSegment object, the podcast without ads\n",
    "    \"\"\"\n",
    "    podcast = AudioSegment.from_file(podcast_file) # Load the podcast file\n",
    "    podcast_duration = len(podcast)\n",
    "\n",
    "    clean_podcast = AudioSegment.empty() # Create an empty AudioSegment object\n",
    "    current_time = 0\n",
    "\n",
    "    for ad_start, ad_end in ad_segments:\n",
    "        ad_start_ms = ad_start * 1000 # Convert to milliseconds\n",
    "        ad_end_ms = ad_end * 1000\n",
    "\n",
    "        clean_podcast += podcast[current_time:ad_start_ms] # Add the non-ad segment to the clean podcast\n",
    "        current_time = ad_end_ms  # Update the current time\n",
    "\n",
    "    clean_podcast += podcast[current_time:podcast_duration]  # Add the last segment of the podcast\n",
    "\n",
    "    return clean_podcast\n"
   ]
  },
  {
   "cell_type": "code",
   "execution_count": null,
   "metadata": {},
   "outputs": [],
   "source": [
    "# Example of using the functions:\n",
    "podcast_file = 'path_to_podcast_file.mp3'\n",
    "ad_segments = detect_ads(podcast_file, your_model)  # Use trained model here\n",
    "clean_podcast = remove_ads_from_podcast(podcast_file, ad_segments)\n",
    "\n",
    "# Saving the ad-free podcast:\n",
    "clean_podcast.export('podcast_without_ads.mp3', format='mp3')"
   ]
  }
 ],
 "metadata": {
  "kernelspec": {
   "display_name": "podcast-ad-skipper",
   "language": "python",
   "name": "python3"
  },
  "language_info": {
   "codemirror_mode": {
    "name": "ipython",
    "version": 3
   },
   "file_extension": ".py",
   "mimetype": "text/x-python",
   "name": "python",
   "nbconvert_exporter": "python",
   "pygments_lexer": "ipython3",
   "version": "3.10.6"
  }
 },
 "nbformat": 4,
 "nbformat_minor": 2
}
