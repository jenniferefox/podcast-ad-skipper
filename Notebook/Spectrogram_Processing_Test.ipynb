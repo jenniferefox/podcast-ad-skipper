{
 "cells": [
  {
   "cell_type": "code",
   "execution_count": 49,
   "metadata": {},
   "outputs": [],
   "source": [
    "from google.cloud import storage\n",
    "import os\n",
    "from dotenv import load_dotenv\n",
    "import json\n",
    "import sys\n",
    "from podcast_ad_skipper.Spectrogram_Conversion import create_spectrogram, spectrogram_to_numpy\n",
    "import pandas as pd\n",
    "from podcast_ad_skipper.upload_to_gcloud import auth_gc\n",
    "import librosa\n",
    "\n",
    "from google.auth.exceptions import GoogleAuthError\n",
    "from google.cloud import storage\n",
    "from google.oauth2 import service_account\n",
    "from google.cloud import bigquery\n",
    "\n",
    "from podcast_ad_skipper.params import *\n"
   ]
  },
  {
   "cell_type": "code",
   "execution_count": 50,
   "metadata": {},
   "outputs": [
    {
     "name": "stdout",
     "output_type": "stream",
     "text": [
      "Authenticated successfully! ✅\n"
     ]
    }
   ],
   "source": [
    "storage_client = auth_gc()"
   ]
  },
  {
   "cell_type": "code",
   "execution_count": 64,
   "metadata": {},
   "outputs": [],
   "source": []
  },
  {
   "cell_type": "code",
   "execution_count": 65,
   "metadata": {},
   "outputs": [],
   "source": [
    "def retrieve_files_in_folder(bucket_name, prefixes):\n",
    "    file_list = []\n",
    "    bucket = storage_client.bucket(bucket_name)\n",
    "    file_list_google_object = bucket.list_blobs(prefix=prefixes)\n",
    "    for file in file_list_google_object:\n",
    "        file_list.append(file)\n",
    "    return file_list\n"
   ]
  },
  {
   "cell_type": "code",
   "execution_count": 68,
   "metadata": {},
   "outputs": [],
   "source": [
    "file_list = retrieve_files_in_folder(bucket_name, prefixes)\n"
   ]
  },
  {
   "cell_type": "code",
   "execution_count": 69,
   "metadata": {},
   "outputs": [
    {
     "data": {
      "text/plain": [
       "list"
      ]
     },
     "execution_count": 69,
     "metadata": {},
     "output_type": "execute_result"
    }
   ],
   "source": [
    "type(file_list)"
   ]
  },
  {
   "cell_type": "code",
   "execution_count": 70,
   "metadata": {},
   "outputs": [],
   "source": [
    "def open_gcs_file(file):\n",
    "    audio_file = file.open('rb')\n",
    "    return audio_file"
   ]
  },
  {
   "cell_type": "code",
   "execution_count": 71,
   "metadata": {},
   "outputs": [],
   "source": [
    "open_file = open_gcs_file(file_list[0])"
   ]
  },
  {
   "cell_type": "code",
   "execution_count": 72,
   "metadata": {},
   "outputs": [],
   "source": [
    "def create_spectrogram(open_file):\n",
    "    #y is an array representing the frequency of the audio signal at each sample.\n",
    "    #sr is the sampling rate (samples per second),\n",
    "    y, sr = librosa.load(open_file)\n",
    "    spectrogram = librosa.stft(y)\n",
    "\n",
    "    #Transforms to decibel scale (logarithmic), which gives more emphasis to amplitude changes in high volumes\n",
    "    spectrogram_db = librosa.amplitude_to_db(abs(spectrogram))\n",
    "    return spectrogram_db"
   ]
  },
  {
   "cell_type": "code",
   "execution_count": 73,
   "metadata": {},
   "outputs": [
    {
     "data": {
      "text/plain": [
       "array([[-10.198136, -15.113926, -29.613918, ..., -29.926647, -24.283981,\n",
       "        -18.033857],\n",
       "       [-10.190883, -19.369791, -25.763617, ..., -27.13015 , -23.894823,\n",
       "        -19.20064 ],\n",
       "       [ -9.43372 , -15.497618, -26.510141, ..., -30.378845, -29.13692 ,\n",
       "        -23.978172],\n",
       "       ...,\n",
       "       [-38.53384 , -38.53384 , -38.53384 , ..., -38.53384 , -38.53384 ,\n",
       "        -38.53384 ],\n",
       "       [-38.53384 , -38.53384 , -38.53384 , ..., -38.53384 , -38.53384 ,\n",
       "        -38.53384 ],\n",
       "       [-38.53384 , -38.53384 , -38.53384 , ..., -38.53384 , -38.53384 ,\n",
       "        -38.53384 ]], dtype=float32)"
      ]
     },
     "execution_count": 73,
     "metadata": {},
     "output_type": "execute_result"
    }
   ],
   "source": [
    "create_spectrogram(open_file)"
   ]
  },
  {
   "cell_type": "code",
   "execution_count": 74,
   "metadata": {},
   "outputs": [],
   "source": [
    "spectrogram_list=[]"
   ]
  },
  {
   "cell_type": "code",
   "execution_count": 83,
   "metadata": {},
   "outputs": [],
   "source": [
    "#main.py\n",
    "prefixes =GCP_PREFIXES[0]\n",
    "bucket_name = BUCKET_NAME\n",
    "\n",
    "def we_have_to_Change_the_name(bucket_name, prefixes):\n",
    "    file_list = retrieve_files_in_folder(bucket_name, prefixes)\n",
    "    for file in file_list[:6]:\n",
    "        open_file = open_gcs_file(file)\n",
    "        spectrogram_db = create_spectrogram(open_file)\n",
    "        spectrogram_list.append(spectrogram_db)\n"
   ]
  },
  {
   "cell_type": "code",
   "execution_count": 82,
   "metadata": {},
   "outputs": [],
   "source": [
    "we_have_to_Change_the_name(bucket_name, prefixes)"
   ]
  },
  {
   "cell_type": "code",
   "execution_count": 78,
   "metadata": {},
   "outputs": [
    {
     "data": {
      "text/plain": [
       "6"
      ]
     },
     "execution_count": 78,
     "metadata": {},
     "output_type": "execute_result"
    }
   ],
   "source": [
    "len(spectrogram_list)"
   ]
  },
  {
   "cell_type": "code",
   "execution_count": 84,
   "metadata": {},
   "outputs": [
    {
     "data": {
      "text/plain": [
       "array([[-10.198136, -15.113926, -29.613918, ..., -29.926647, -24.283981,\n",
       "        -18.033857],\n",
       "       [-10.190883, -19.369791, -25.763617, ..., -27.13015 , -23.894823,\n",
       "        -19.20064 ],\n",
       "       [ -9.43372 , -15.497618, -26.510141, ..., -30.378845, -29.13692 ,\n",
       "        -23.978172],\n",
       "       ...,\n",
       "       [-38.53384 , -38.53384 , -38.53384 , ..., -38.53384 , -38.53384 ,\n",
       "        -38.53384 ],\n",
       "       [-38.53384 , -38.53384 , -38.53384 , ..., -38.53384 , -38.53384 ,\n",
       "        -38.53384 ],\n",
       "       [-38.53384 , -38.53384 , -38.53384 , ..., -38.53384 , -38.53384 ,\n",
       "        -38.53384 ]], dtype=float32)"
      ]
     },
     "execution_count": 84,
     "metadata": {},
     "output_type": "execute_result"
    }
   ],
   "source": [
    "spectrogram_list[0]"
   ]
  },
  {
   "cell_type": "code",
   "execution_count": null,
   "metadata": {},
   "outputs": [],
   "source": []
  }
 ],
 "metadata": {
  "kernelspec": {
   "display_name": "podcast-ad-skipper",
   "language": "python",
   "name": "python3"
  },
  "language_info": {
   "codemirror_mode": {
    "name": "ipython",
    "version": 3
   },
   "file_extension": ".py",
   "mimetype": "text/x-python",
   "name": "python",
   "nbconvert_exporter": "python",
   "pygments_lexer": "ipython3",
   "version": "3.10.6"
  }
 },
 "nbformat": 4,
 "nbformat_minor": 2
}
