{
 "cells": [
  {
   "cell_type": "code",
   "execution_count": 1,
   "metadata": {},
   "outputs": [],
   "source": [
    "from podcast_ad_skipper.google_cloud import *\n",
    "from podcast_ad_skipper.data_preparation import *\n"
   ]
  },
  {
   "cell_type": "code",
   "execution_count": 2,
   "metadata": {},
   "outputs": [
    {
     "name": "stdout",
     "output_type": "stream",
     "text": [
      "Running in local environment.\n",
      "Authenticated successfully with BigQuery! ✅\n"
     ]
    }
   ],
   "source": [
    "bq_client = auth_gc_bigquery()\n",
    "table_id = f\"{GCP_PROJECT_ID}.{BQ_DATASET}.test10\"\n",
    "# columns = '[spectrogram, labels]'"
   ]
  },
  {
   "cell_type": "code",
   "execution_count": 28,
   "metadata": {},
   "outputs": [
    {
     "name": "stdout",
     "output_type": "stream",
     "text": [
      "\u001b[32mQuery returned 50 results\u001b[0m\n"
     ]
    }
   ],
   "source": [
    "rows = get_output_query_bigquery(bq_client, table_id, limit=50, columns=\"*\")"
   ]
  },
  {
   "cell_type": "code",
   "execution_count": 29,
   "metadata": {},
   "outputs": [],
   "source": [
    "# def new_process_function(output):\n",
    "#     if output:\n",
    "#         spectrogram_bq, labels_bq, seconds_bq, duration_bq, podcast_name_bq = [], [], [], [], []\n",
    "#         for row in output:\n",
    "#             # Use row.field_name to access fields instead of indices\n",
    "#             spectrogram_bq.append(np.array(json.loads(row['spectrogram'])))\n",
    "#             labels_bq.append(row.get('label', None))  # Use get to handle missing fields\n",
    "#             seconds_bq.append(row.get('seconds', None)) if 'seconds' in row else seconds_bq.append(None)\n",
    "#             duration_bq.append(row.get('duration', None)) if 'duration' in row else duration_bq.append(None)\n",
    "#             podcast_name_bq.append(row.get('podcast_name', None)) if 'podcast_name' in row else podcast_name_bq.append(None)\n",
    "\n",
    "#         return spectrogram_bq, labels_bq, seconds_bq, duration_bq, podcast_name_bq"
   ]
  },
  {
   "cell_type": "code",
   "execution_count": 30,
   "metadata": {},
   "outputs": [],
   "source": [
    "def new_process_function(output):\n",
    "    if output:\n",
    "        spectrogram_bq, labels_bq = [], []\n",
    "        for row in output:\n",
    "            # Use row.field_name to access fields instead of indices\n",
    "            spectrogram_bq.append(np.array(json.loads(row['spectrogram'])))\n",
    "            labels_bq.append(row['labels'])  # Use get to handle missing fields\n",
    "            # seconds_bq.append(row.get('seconds', None)) if 'seconds' in row else seconds_bq.append(None)\n",
    "            # duration_bq.append(row.get('duration', None)) if 'duration' in row else duration_bq.append(None)\n",
    "            # podcast_name_bq.append(row.get('podcast_name', None)) if 'podcast_name' in row else podcast_name_bq.append(None)\n",
    "\n",
    "        return spectrogram_bq, labels_bq"
   ]
  },
  {
   "cell_type": "code",
   "execution_count": 31,
   "metadata": {},
   "outputs": [],
   "source": [
    "processed_columns = new_process_function(rows)"
   ]
  },
  {
   "cell_type": "code",
   "execution_count": 33,
   "metadata": {},
   "outputs": [
    {
     "data": {
      "text/plain": [
       "[0,\n",
       " 0,\n",
       " 0,\n",
       " 0,\n",
       " 0,\n",
       " 0,\n",
       " 0,\n",
       " 0,\n",
       " 0,\n",
       " 0,\n",
       " 0,\n",
       " 0,\n",
       " 0,\n",
       " 0,\n",
       " 0,\n",
       " 0,\n",
       " 0,\n",
       " 0,\n",
       " 0,\n",
       " 0,\n",
       " 0,\n",
       " 0,\n",
       " 0,\n",
       " 0,\n",
       " 0,\n",
       " 0,\n",
       " 0,\n",
       " 0,\n",
       " 0,\n",
       " 0,\n",
       " 0,\n",
       " 0,\n",
       " 0,\n",
       " 0,\n",
       " 0,\n",
       " 0,\n",
       " 0,\n",
       " 0,\n",
       " 0,\n",
       " 0,\n",
       " 0,\n",
       " 0,\n",
       " 0,\n",
       " 0,\n",
       " 0,\n",
       " 0,\n",
       " 0,\n",
       " 0,\n",
       " 0,\n",
       " 0]"
      ]
     },
     "execution_count": 33,
     "metadata": {},
     "output_type": "execute_result"
    }
   ],
   "source": [
    "processed_columns[1]"
   ]
  },
  {
   "cell_type": "code",
   "execution_count": 7,
   "metadata": {},
   "outputs": [
    {
     "data": {
      "text/plain": [
       "200"
      ]
     },
     "execution_count": 7,
     "metadata": {},
     "output_type": "execute_result"
    }
   ],
   "source": [
    "len(processed_columns[0])"
   ]
  },
  {
   "cell_type": "code",
   "execution_count": 34,
   "metadata": {},
   "outputs": [],
   "source": [
    "nans_count = 0\n",
    "spec_column = processed_columns[0]\n",
    "\n",
    "def check_for_nans(spec_column, nans_count):\n",
    "    for idx, array in enumerate(spec_column):\n",
    "        if np.isnan(array).any():\n",
    "                # print(f\"NaNs found in array at index {idx}\")\n",
    "            nans_count += 1\n",
    "    print(nans_count)"
   ]
  },
  {
   "cell_type": "code",
   "execution_count": 35,
   "metadata": {},
   "outputs": [
    {
     "name": "stdout",
     "output_type": "stream",
     "text": [
      "0\n"
     ]
    }
   ],
   "source": [
    "check_for_nans(spec_column, nans_count)"
   ]
  },
  {
   "cell_type": "code",
   "execution_count": 10,
   "metadata": {},
   "outputs": [
    {
     "data": {
      "text/plain": [
       "0.022"
      ]
     },
     "execution_count": 10,
     "metadata": {},
     "output_type": "execute_result"
    }
   ],
   "source": [
    "44/2000"
   ]
  },
  {
   "cell_type": "code",
   "execution_count": 11,
   "metadata": {},
   "outputs": [],
   "source": [
    "spec_column = processed_columns[0]\n",
    "label_column = processed_columns[1]\n",
    "\n",
    "def check_for_and_delete_nans(spec_column, label_column, nans_count):\n",
    "    cleaned_spec_column = []\n",
    "    cleaned_label_column = []\n",
    "    # New list to store non-NaN arrays\n",
    "    for idx, array in enumerate(spec_column):\n",
    "        if np.isnan(array).any():\n",
    "            nans_count += 1\n",
    "        else:\n",
    "            cleaned_spec_column.append(array)\n",
    "            cleaned_label_column.append(label_column[idx])\n",
    "\n",
    "    print(f\"Total NaNs found: {nans_count}\")\n",
    "    return cleaned_spec_column, cleaned_label_column"
   ]
  },
  {
   "cell_type": "code",
   "execution_count": 12,
   "metadata": {},
   "outputs": [
    {
     "name": "stdout",
     "output_type": "stream",
     "text": [
      "Total NaNs found: 0\n"
     ]
    }
   ],
   "source": [
    "cleaned_spec_column, cleaned_label_column = check_for_and_delete_nans(spec_column, label_column, nans_count)"
   ]
  },
  {
   "cell_type": "code",
   "execution_count": 13,
   "metadata": {},
   "outputs": [
    {
     "data": {
      "text/plain": [
       "200"
      ]
     },
     "execution_count": 13,
     "metadata": {},
     "output_type": "execute_result"
    }
   ],
   "source": [
    "len(cleaned_spec_column)"
   ]
  },
  {
   "cell_type": "code",
   "execution_count": 178,
   "metadata": {},
   "outputs": [
    {
     "data": {
      "text/plain": [
       "8800.0"
      ]
     },
     "execution_count": 178,
     "metadata": {},
     "output_type": "execute_result"
    }
   ],
   "source": [
    "0.22*40000"
   ]
  },
  {
   "cell_type": "code",
   "execution_count": 179,
   "metadata": {},
   "outputs": [
    {
     "data": {
      "text/plain": [
       "1956"
      ]
     },
     "execution_count": 179,
     "metadata": {},
     "output_type": "execute_result"
    }
   ],
   "source": [
    "len(cleaned_label_column)"
   ]
  }
 ],
 "metadata": {
  "kernelspec": {
   "display_name": "podcast-ad-skipper",
   "language": "python",
   "name": "python3"
  },
  "language_info": {
   "codemirror_mode": {
    "name": "ipython",
    "version": 3
   },
   "file_extension": ".py",
   "mimetype": "text/x-python",
   "name": "python",
   "nbconvert_exporter": "python",
   "pygments_lexer": "ipython3",
   "version": "3.10.6"
  }
 },
 "nbformat": 4,
 "nbformat_minor": 2
}
