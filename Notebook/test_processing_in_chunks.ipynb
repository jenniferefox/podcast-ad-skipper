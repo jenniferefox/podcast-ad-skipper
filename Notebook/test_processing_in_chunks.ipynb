{
 "cells": [
  {
   "cell_type": "code",
   "execution_count": 12,
   "metadata": {},
   "outputs": [],
   "source": [
    "from podcast_ad_skipper.google_cloud import *\n",
    "from podcast_ad_skipper.params import *\n",
    "from podcast_ad_skipper.data_preparation import *\n",
    "import pandas as pd\n",
    "import json\n",
    "from podcast_ad_skipper.main import get_processed_training_data"
   ]
  },
  {
   "cell_type": "code",
   "execution_count": 13,
   "metadata": {},
   "outputs": [
    {
     "name": "stdout",
     "output_type": "stream",
     "text": [
      "Running in local environment.\n",
      "Authenticated successfully with GCS! ✅\n"
     ]
    }
   ],
   "source": [
    "storage_client = auth_gc_storage()\n"
   ]
  },
  {
   "cell_type": "code",
   "execution_count": 14,
   "metadata": {},
   "outputs": [],
   "source": [
    "bucket_name = BUCKET_NAME\n",
    "prefixes=GCP_PREFIXES[0]\n",
    "chunk_size=5\n"
   ]
  },
  {
   "cell_type": "code",
   "execution_count": 15,
   "metadata": {},
   "outputs": [],
   "source": [
    "file_list = retrieve_files_in_folder(storage_client, bucket_name, prefixes)"
   ]
  },
  {
   "cell_type": "code",
   "execution_count": 16,
   "metadata": {},
   "outputs": [],
   "source": [
    "chunks_list = make_chunks(file_list, chunk_size)"
   ]
  },
  {
   "cell_type": "code",
   "execution_count": 17,
   "metadata": {},
   "outputs": [
    {
     "name": "stdout",
     "output_type": "stream",
     "text": [
      "Running in local environment.\n",
      "Authenticated successfully with BigQuery! ✅\n",
      "Batch of 5 rows has been added.\n",
      "Batch of 5 rows has been added.\n",
      "Batch of 5 rows has been added.\n",
      "Batch of 5 rows has been added.\n",
      "Batch of 5 rows has been added.\n",
      "Batch of 5 rows has been added.\n",
      "Batch of 5 rows has been added.\n",
      "Batch of 5 rows has been added.\n",
      "Batch of 5 rows has been added.\n",
      "Batch of 5 rows has been added.\n",
      "Batch of 5 rows has been added.\n",
      "Batch of 5 rows has been added.\n",
      "Batch of 5 rows has been added.\n",
      "Batch of 5 rows has been added.\n",
      "Batch of 5 rows has been added.\n",
      "Batch of 5 rows has been added.\n",
      "Batch of 5 rows has been added.\n",
      "Batch of 5 rows has been added.\n",
      "Batch of 5 rows has been added.\n",
      "Batch of 5 rows has been added.\n",
      "Batch of 5 rows has been added.\n",
      "Batch of 5 rows has been added.\n",
      "Batch of 5 rows has been added.\n",
      "Batch of 5 rows has been added.\n",
      "Batch of 5 rows has been added.\n",
      "Batch of 5 rows has been added.\n",
      "Batch of 5 rows has been added.\n",
      "Batch of 5 rows has been added.\n",
      "Batch of 5 rows has been added.\n",
      "Batch of 5 rows has been added.\n",
      "Batch of 5 rows has been added.\n",
      "Batch of 5 rows has been added.\n",
      "Batch of 5 rows has been added.\n",
      "Batch of 5 rows has been added.\n",
      "Batch of 5 rows has been added.\n",
      "Batch of 5 rows has been added.\n",
      "Batch of 5 rows has been added.\n",
      "Batch of 5 rows has been added.\n",
      "Batch of 5 rows has been added.\n",
      "Batch of 5 rows has been added.\n",
      "Batch of 5 rows has been added.\n",
      "Batch of 5 rows has been added.\n",
      "Batch of 5 rows has been added.\n",
      "Batch of 5 rows has been added.\n",
      "Batch of 5 rows has been added.\n",
      "Batch of 5 rows has been added.\n",
      "Batch of 5 rows has been added.\n",
      "Batch of 5 rows has been added.\n",
      "Batch of 5 rows has been added.\n",
      "Batch of 5 rows has been added.\n",
      "Batch of 5 rows has been added.\n",
      "Batch of 5 rows has been added.\n",
      "Batch of 5 rows has been added.\n",
      "Batch of 5 rows has been added.\n",
      "Batch of 5 rows has been added.\n",
      "Batch of 5 rows has been added.\n",
      "Batch of 5 rows has been added.\n",
      "Batch of 5 rows has been added.\n",
      "Batch of 5 rows has been added.\n",
      "Batch of 5 rows has been added.\n",
      "CPU times: user 11.3 s, sys: 6.32 s, total: 17.6 s\n",
      "Wall time: 4min 15s\n"
     ]
    }
   ],
   "source": [
    "%%time\n",
    "\n",
    "bq_client = auth_gc_bigquery()\n",
    "\n",
    "for chunk in chunks_list[:60]:\n",
    "\n",
    "    features = get_features_model(chunk)\n",
    "\n",
    "    table_id = f\"{GCP_PROJECT_ID}.{BQ_DATASET}.test9\"\n",
    "\n",
    "    rows_to_insert = [\n",
    "        {\n",
    "            \"spectrogram\": json.dumps(features[0][i].tolist()),\n",
    "            \"labels\": features[1][i],\n",
    "            \"seconds\": features[2][i],\n",
    "            \"duration\": features[3][i],\n",
    "            \"podcast_names\": features[4][i],\n",
    "        } for i in range(len(features[0]))\n",
    "    ]\n",
    "    insert_data_to_bq(rows_to_insert, bq_client, table_id, chunk_size)\n",
    "    # Time out error again, with both [:1] and [:10]\n",
    "    # Move spectrogram code to model pipeline"
   ]
  },
  {
   "cell_type": "code",
   "execution_count": 18,
   "metadata": {},
   "outputs": [],
   "source": [
    "table_id = f\"{GCP_PROJECT_ID}.{BQ_DATASET}.test9\""
   ]
  },
  {
   "cell_type": "code",
   "execution_count": 19,
   "metadata": {},
   "outputs": [
    {
     "name": "stdout",
     "output_type": "stream",
     "text": [
      "Running in local environment.\n",
      "Authenticated successfully with BigQuery! ✅\n"
     ]
    }
   ],
   "source": [
    "bq_client = auth_gc_bigquery()"
   ]
  },
  {
   "cell_type": "code",
   "execution_count": 20,
   "metadata": {},
   "outputs": [
    {
     "name": "stdout",
     "output_type": "stream",
     "text": [
      "\u001b[32mQuery returned 500 results\u001b[0m\n"
     ]
    }
   ],
   "source": [
    "output= get_output_query_bigquery(bq_client, table_id)\n"
   ]
  },
  {
   "cell_type": "code",
   "execution_count": 21,
   "metadata": {},
   "outputs": [],
   "source": [
    "processed_output = get_bq_processed_data(output)"
   ]
  },
  {
   "cell_type": "code",
   "execution_count": 24,
   "metadata": {},
   "outputs": [
    {
     "data": {
      "text/plain": [
       "(128, 216)"
      ]
     },
     "execution_count": 24,
     "metadata": {},
     "output_type": "execute_result"
    }
   ],
   "source": [
    "processed_output[0][200].shape"
   ]
  },
  {
   "cell_type": "code",
   "execution_count": 25,
   "metadata": {},
   "outputs": [],
   "source": [
    "nans_count = 0\n",
    "spec_column = processed_output[0]\n",
    "\n",
    "def check_for_nans(spec_column, nans_count):\n",
    "    for idx, array in enumerate(spec_column):\n",
    "        if np.isnan(array).any():\n",
    "                # print(f\"NaNs found in array at index {idx}\")\n",
    "            nans_count += 1\n",
    "    print(nans_count)"
   ]
  },
  {
   "cell_type": "code",
   "execution_count": 26,
   "metadata": {},
   "outputs": [
    {
     "name": "stdout",
     "output_type": "stream",
     "text": [
      "0\n"
     ]
    }
   ],
   "source": [
    "check_for_nans(spec_column, nans_count)"
   ]
  },
  {
   "cell_type": "code",
   "execution_count": null,
   "metadata": {},
   "outputs": [],
   "source": []
  }
 ],
 "metadata": {
  "kernelspec": {
   "display_name": "podcast-ad-skipper",
   "language": "python",
   "name": "python3"
  },
  "language_info": {
   "codemirror_mode": {
    "name": "ipython",
    "version": 3
   },
   "file_extension": ".py",
   "mimetype": "text/x-python",
   "name": "python",
   "nbconvert_exporter": "python",
   "pygments_lexer": "ipython3",
   "version": "3.10.6"
  }
 },
 "nbformat": 4,
 "nbformat_minor": 2
}
