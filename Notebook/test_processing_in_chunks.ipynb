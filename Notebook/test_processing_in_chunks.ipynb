{
 "cells": [
  {
   "cell_type": "code",
   "execution_count": 28,
   "metadata": {},
   "outputs": [],
   "source": [
    "from podcast_ad_skipper.google_cloud import *\n",
    "from podcast_ad_skipper.params import *\n",
    "from podcast_ad_skipper.data_preparation import *\n",
    "import pandas as pd\n",
    "import json\n",
    "from podcast_ad_skipper.main import get_processed_training_data"
   ]
  },
  {
   "cell_type": "code",
   "execution_count": 29,
   "metadata": {},
   "outputs": [
    {
     "name": "stdout",
     "output_type": "stream",
     "text": [
      "Running in local environment.\n",
      "Authenticated successfully with GCS! ✅\n"
     ]
    }
   ],
   "source": [
    "storage_client = auth_gc_storage()\n",
    "columns = '[\"spectrogram\", \"labels\"]'"
   ]
  },
  {
   "cell_type": "code",
   "execution_count": 30,
   "metadata": {},
   "outputs": [],
   "source": [
    "bucket_name = BUCKET_NAME\n",
    "prefixes=GCP_PREFIXES[0]\n",
    "chunk_size=5\n"
   ]
  },
  {
   "cell_type": "code",
   "execution_count": 31,
   "metadata": {},
   "outputs": [],
   "source": [
    "file_list = retrieve_files_in_folder(storage_client, bucket_name, prefixes)"
   ]
  },
  {
   "cell_type": "code",
   "execution_count": 32,
   "metadata": {},
   "outputs": [],
   "source": [
    "chunks_list = make_chunks(file_list, chunk_size)"
   ]
  },
  {
   "cell_type": "code",
   "execution_count": 33,
   "metadata": {},
   "outputs": [
    {
     "name": "stdout",
     "output_type": "stream",
     "text": [
      "Running in local environment.\n",
      "Authenticated successfully with BigQuery! ✅\n",
      "Batch of 5 rows has been added.\n",
      "Batch of 5 rows has been added.\n",
      "Batch of 5 rows has been added.\n",
      "Batch of 5 rows has been added.\n",
      "Batch of 5 rows has been added.\n",
      "Batch of 5 rows has been added.\n",
      "Batch of 5 rows has been added.\n",
      "Batch of 5 rows has been added.\n",
      "Batch of 5 rows has been added.\n",
      "Batch of 5 rows has been added.\n",
      "Batch of 5 rows has been added.\n",
      "Batch of 5 rows has been added.\n",
      "Batch of 5 rows has been added.\n",
      "Batch of 5 rows has been added.\n",
      "Batch of 5 rows has been added.\n",
      "Batch of 5 rows has been added.\n",
      "Batch of 5 rows has been added.\n",
      "Batch of 5 rows has been added.\n",
      "Batch of 5 rows has been added.\n",
      "Batch of 5 rows has been added.\n",
      "Batch of 5 rows has been added.\n",
      "Batch of 5 rows has been added.\n",
      "Batch of 5 rows has been added.\n",
      "Batch of 5 rows has been added.\n",
      "Batch of 5 rows has been added.\n",
      "Batch of 5 rows has been added.\n",
      "Batch of 5 rows has been added.\n",
      "Batch of 5 rows has been added.\n",
      "Batch of 5 rows has been added.\n",
      "Batch of 5 rows has been added.\n",
      "Batch of 5 rows has been added.\n",
      "Batch of 5 rows has been added.\n",
      "Batch of 5 rows has been added.\n",
      "Batch of 5 rows has been added.\n",
      "Batch of 5 rows has been added.\n",
      "Batch of 5 rows has been added.\n",
      "Batch of 5 rows has been added.\n",
      "Batch of 5 rows has been added.\n",
      "Batch of 5 rows has been added.\n",
      "Batch of 5 rows has been added.\n",
      "Batch of 5 rows has been added.\n",
      "Batch of 5 rows has been added.\n",
      "Batch of 5 rows has been added.\n",
      "Batch of 5 rows has been added.\n",
      "Batch of 5 rows has been added.\n",
      "Batch of 5 rows has been added.\n",
      "Batch of 5 rows has been added.\n",
      "Batch of 5 rows has been added.\n",
      "Batch of 5 rows has been added.\n",
      "Batch of 5 rows has been added.\n",
      "Batch of 5 rows has been added.\n",
      "Batch of 5 rows has been added.\n",
      "Batch of 5 rows has been added.\n",
      "Batch of 5 rows has been added.\n",
      "Batch of 5 rows has been added.\n",
      "Batch of 5 rows has been added.\n",
      "Batch of 5 rows has been added.\n",
      "Batch of 5 rows has been added.\n",
      "Batch of 5 rows has been added.\n",
      "Batch of 5 rows has been added.\n",
      "Batch of 5 rows has been added.\n",
      "Batch of 5 rows has been added.\n",
      "Batch of 5 rows has been added.\n",
      "Batch of 5 rows has been added.\n",
      "Batch of 5 rows has been added.\n",
      "Batch of 5 rows has been added.\n",
      "Batch of 5 rows has been added.\n",
      "Batch of 5 rows has been added.\n",
      "Batch of 5 rows has been added.\n",
      "Batch of 5 rows has been added.\n",
      "Batch of 5 rows has been added.\n",
      "Batch of 5 rows has been added.\n",
      "Batch of 5 rows has been added.\n",
      "Batch of 5 rows has been added.\n",
      "Batch of 5 rows has been added.\n",
      "Batch of 5 rows has been added.\n",
      "Batch of 5 rows has been added.\n",
      "Batch of 5 rows has been added.\n",
      "Batch of 5 rows has been added.\n",
      "Batch of 5 rows has been added.\n",
      "Batch of 5 rows has been added.\n",
      "Batch of 5 rows has been added.\n",
      "Batch of 5 rows has been added.\n",
      "Batch of 5 rows has been added.\n",
      "Batch of 5 rows has been added.\n",
      "Batch of 5 rows has been added.\n",
      "Batch of 5 rows has been added.\n",
      "Batch of 5 rows has been added.\n",
      "Batch of 5 rows has been added.\n",
      "Batch of 5 rows has been added.\n",
      "Batch of 5 rows has been added.\n",
      "Batch of 5 rows has been added.\n",
      "Batch of 5 rows has been added.\n",
      "Batch of 5 rows has been added.\n",
      "Batch of 5 rows has been added.\n",
      "Batch of 5 rows has been added.\n",
      "Batch of 5 rows has been added.\n",
      "Batch of 5 rows has been added.\n",
      "Batch of 5 rows has been added.\n",
      "Batch of 5 rows has been added.\n",
      "Batch of 5 rows has been added.\n",
      "Batch of 5 rows has been added.\n",
      "Batch of 5 rows has been added.\n",
      "Batch of 5 rows has been added.\n",
      "Batch of 5 rows has been added.\n",
      "Batch of 5 rows has been added.\n",
      "Batch of 5 rows has been added.\n",
      "Batch of 5 rows has been added.\n",
      "Batch of 5 rows has been added.\n",
      "Batch of 5 rows has been added.\n",
      "Batch of 5 rows has been added.\n",
      "Batch of 5 rows has been added.\n",
      "Batch of 5 rows has been added.\n",
      "Batch of 5 rows has been added.\n",
      "Batch of 5 rows has been added.\n",
      "Batch of 5 rows has been added.\n",
      "Batch of 5 rows has been added.\n",
      "Batch of 5 rows has been added.\n",
      "Batch of 5 rows has been added.\n",
      "Batch of 5 rows has been added.\n",
      "Batch of 5 rows has been added.\n",
      "Batch of 5 rows has been added.\n",
      "Batch of 5 rows has been added.\n",
      "Batch of 5 rows has been added.\n",
      "Batch of 5 rows has been added.\n",
      "Batch of 5 rows has been added.\n",
      "Batch of 5 rows has been added.\n",
      "Batch of 5 rows has been added.\n",
      "Batch of 5 rows has been added.\n",
      "Batch of 5 rows has been added.\n",
      "Batch of 5 rows has been added.\n",
      "Batch of 5 rows has been added.\n",
      "Batch of 5 rows has been added.\n",
      "Batch of 5 rows has been added.\n",
      "Batch of 5 rows has been added.\n",
      "Batch of 5 rows has been added.\n",
      "Batch of 5 rows has been added.\n",
      "Batch of 5 rows has been added.\n",
      "Batch of 5 rows has been added.\n",
      "Batch of 5 rows has been added.\n",
      "Batch of 5 rows has been added.\n",
      "Batch of 5 rows has been added.\n",
      "Batch of 5 rows has been added.\n",
      "Batch of 5 rows has been added.\n",
      "Batch of 5 rows has been added.\n",
      "Batch of 5 rows has been added.\n",
      "Batch of 5 rows has been added.\n",
      "Batch of 5 rows has been added.\n",
      "Batch of 5 rows has been added.\n",
      "Batch of 5 rows has been added.\n",
      "Batch of 5 rows has been added.\n",
      "Batch of 5 rows has been added.\n",
      "Batch of 5 rows has been added.\n",
      "Batch of 5 rows has been added.\n",
      "Batch of 5 rows has been added.\n",
      "Batch of 5 rows has been added.\n",
      "Batch of 5 rows has been added.\n",
      "Batch of 5 rows has been added.\n",
      "Batch of 5 rows has been added.\n",
      "Batch of 5 rows has been added.\n",
      "Batch of 5 rows has been added.\n",
      "Batch of 5 rows has been added.\n",
      "Batch of 5 rows has been added.\n",
      "Batch of 5 rows has been added.\n",
      "Batch of 5 rows has been added.\n",
      "Batch of 5 rows has been added.\n",
      "Batch of 5 rows has been added.\n",
      "Batch of 5 rows has been added.\n",
      "Batch of 5 rows has been added.\n",
      "Batch of 5 rows has been added.\n",
      "Batch of 5 rows has been added.\n",
      "Batch of 5 rows has been added.\n",
      "Batch of 5 rows has been added.\n",
      "Batch of 5 rows has been added.\n",
      "Batch of 5 rows has been added.\n",
      "Batch of 5 rows has been added.\n",
      "Batch of 5 rows has been added.\n",
      "Batch of 5 rows has been added.\n",
      "Batch of 5 rows has been added.\n",
      "Batch of 5 rows has been added.\n",
      "Batch of 5 rows has been added.\n",
      "Batch of 5 rows has been added.\n",
      "Batch of 5 rows has been added.\n",
      "Batch of 5 rows has been added.\n",
      "Batch of 5 rows has been added.\n",
      "Batch of 5 rows has been added.\n",
      "Batch of 5 rows has been added.\n",
      "Batch of 5 rows has been added.\n",
      "Batch of 5 rows has been added.\n",
      "Batch of 5 rows has been added.\n",
      "Batch of 5 rows has been added.\n",
      "Batch of 5 rows has been added.\n",
      "Batch of 5 rows has been added.\n",
      "Batch of 5 rows has been added.\n",
      "Batch of 5 rows has been added.\n",
      "Batch of 5 rows has been added.\n",
      "Batch of 5 rows has been added.\n",
      "Batch of 5 rows has been added.\n",
      "Batch of 5 rows has been added.\n",
      "Batch of 5 rows has been added.\n"
     ]
    }
   ],
   "source": [
    "# %%time\n",
    "\n",
    "bq_client = auth_gc_bigquery()\n",
    "\n",
    "for chunk in chunks_list[:200]:\n",
    "\n",
    "    features = get_features_model(chunk)\n",
    "\n",
    "    table_id = f\"{GCP_PROJECT_ID}.{BQ_DATASET}.test10\"\n",
    "\n",
    "    rows_to_insert = [\n",
    "        {\n",
    "            \"spectrogram\": json.dumps(features[0][i].tolist()),\n",
    "            \"labels\": features[1][i],\n",
    "            \"seconds\": features[2][i],\n",
    "            \"duration\": features[3][i],\n",
    "            \"podcast_names\": features[4][i],\n",
    "        } for i in range(len(features[0]))\n",
    "    ]\n",
    "    insert_data_to_bq(rows_to_insert, bq_client, table_id, chunk_size)\n",
    "    # Time out error again, with both [:1] and [:10]\n",
    "    # Move spectrogram code to model pipeline"
   ]
  },
  {
   "cell_type": "code",
   "execution_count": 38,
   "metadata": {},
   "outputs": [],
   "source": [
    "table_id = f\"{GCP_PROJECT_ID}.{BQ_DATASET}.test10\""
   ]
  },
  {
   "cell_type": "code",
   "execution_count": 39,
   "metadata": {},
   "outputs": [
    {
     "name": "stdout",
     "output_type": "stream",
     "text": [
      "Running in local environment.\n",
      "Authenticated successfully with BigQuery! ✅\n"
     ]
    }
   ],
   "source": [
    "bq_client = auth_gc_bigquery()"
   ]
  },
  {
   "cell_type": "code",
   "execution_count": 41,
   "metadata": {},
   "outputs": [
    {
     "name": "stdout",
     "output_type": "stream",
     "text": [
      "\u001b[32mQuery returned 1005 results\u001b[0m\n"
     ]
    }
   ],
   "source": [
    "output= get_output_query_bigquery(bq_client, table_id, limit=None, columns=\"*\")\n"
   ]
  },
  {
   "cell_type": "code",
   "execution_count": 6,
   "metadata": {},
   "outputs": [
    {
     "data": {
      "text/plain": [
       "google.cloud.bigquery.table.RowIterator"
      ]
     },
     "execution_count": 6,
     "metadata": {},
     "output_type": "execute_result"
    }
   ],
   "source": [
    "type(output)"
   ]
  },
  {
   "cell_type": "code",
   "execution_count": 42,
   "metadata": {},
   "outputs": [],
   "source": [
    "output_processed = get_bq_processed_data(output)"
   ]
  },
  {
   "cell_type": "code",
   "execution_count": 13,
   "metadata": {},
   "outputs": [
    {
     "data": {
      "text/plain": [
       "([array([[-47.4757309 , -53.66692352, -64.69184875, ..., -67.02127838,\n",
       "          -65.63458252, -61.32347488],\n",
       "         [-44.6698761 , -50.49269485, -58.24084091, ..., -62.07104492,\n",
       "          -66.32159424, -62.47253036],\n",
       "         [-40.27104187, -44.763134  , -53.42609024, ..., -56.8628273 ,\n",
       "          -60.5264473 , -58.4808197 ],\n",
       "         ...,\n",
       "         [-62.51431656, -64.42776489, -69.13052368, ..., -70.65504456,\n",
       "          -80.        , -80.        ],\n",
       "         [-61.25905609, -60.63599777, -63.40979385, ..., -70.91630554,\n",
       "          -80.        , -80.        ],\n",
       "         [-63.11557007, -64.24725342, -67.78479004, ..., -74.06596375,\n",
       "          -80.        , -80.        ]]),\n",
       "  array([[-68.14377594, -67.77185059, -64.17067719, ..., -64.57652283,\n",
       "          -62.63965607, -59.55200958],\n",
       "         [-71.99550629, -71.66521454, -78.18234253, ..., -65.41227722,\n",
       "          -65.47524261, -61.17208099],\n",
       "         [-76.94216919, -71.9666214 , -68.07937622, ..., -58.81544495,\n",
       "          -60.77533722, -60.91940308],\n",
       "         ...,\n",
       "         [-78.29704285, -76.77006531, -77.7395401 , ..., -47.27053833,\n",
       "          -45.01800537, -47.34776688],\n",
       "         [-80.        , -79.89552307, -79.29193878, ..., -47.51741028,\n",
       "          -44.26750946, -44.57883072],\n",
       "         [-79.32526398, -77.64241791, -79.20933533, ..., -44.31707001,\n",
       "          -42.15055466, -44.5665741 ]]),\n",
       "  array([[-66.82478333, -69.15961456, -76.70674133, ..., -56.45513916,\n",
       "          -51.61677551, -51.71308517],\n",
       "         [-68.78146362, -63.75151825, -67.69654846, ..., -49.53339386,\n",
       "          -43.74013901, -47.94824219],\n",
       "         [-65.1710434 , -62.41879272, -61.60098267, ..., -36.24652863,\n",
       "          -36.85634613, -48.8550415 ],\n",
       "         ...,\n",
       "         [-80.        , -76.06977081, -56.24547958, ..., -62.81923294,\n",
       "          -62.82704163, -66.25405884],\n",
       "         [-76.39730835, -68.92090607, -47.00131226, ..., -60.97875977,\n",
       "          -62.51540375, -65.25971985],\n",
       "         [-80.        , -70.54951477, -49.41322327, ..., -60.54039383,\n",
       "          -60.89274216, -66.66018677]]),\n",
       "  array([[-36.97626114, -42.80695343, -66.99999237, ..., -64.33340454,\n",
       "          -69.39994812, -65.41820526],\n",
       "         [-36.33624268, -42.35791016, -64.28211975, ..., -53.18814087,\n",
       "          -63.07667923, -61.50269699],\n",
       "         [-34.61534119, -39.97855377, -59.50879288, ..., -48.64969635,\n",
       "          -55.02266693, -58.32595825],\n",
       "         ...,\n",
       "         [-67.23020935, -72.84697723, -80.        , ..., -50.27583313,\n",
       "          -51.38665009, -56.67334366],\n",
       "         [-67.3522644 , -73.10365295, -80.        , ..., -47.72796249,\n",
       "          -47.48391724, -52.32082367],\n",
       "         [-67.23543549, -72.86489868, -79.72390747, ..., -46.07076263,\n",
       "          -46.34871674, -51.60121918]]),\n",
       "  array([[-66.57295227, -67.23781586, -70.15187073, ..., -48.79627991,\n",
       "          -42.90743256, -31.20421982],\n",
       "         [-65.64028931, -63.35913467, -65.8664093 , ..., -48.28964615,\n",
       "          -41.97256851, -30.47320938],\n",
       "         [-57.41332245, -58.22071457, -67.97119904, ..., -50.4412117 ,\n",
       "          -40.61871338, -29.49933434],\n",
       "         ...,\n",
       "         [-37.84102631, -33.91793823, -36.84712219, ..., -53.54364014,\n",
       "          -51.07994843, -51.54437637],\n",
       "         [-37.76566315, -33.60064316, -35.44315338, ..., -53.73080444,\n",
       "          -50.35848999, -50.55288315],\n",
       "         [-36.39170837, -33.55550385, -34.46849823, ..., -55.11755753,\n",
       "          -51.42767334, -50.33595276]])],\n",
       " [0, 0, 0, 0, 0])"
      ]
     },
     "execution_count": 13,
     "metadata": {},
     "output_type": "execute_result"
    }
   ],
   "source": [
    "output_processed"
   ]
  },
  {
   "cell_type": "code",
   "execution_count": 43,
   "metadata": {},
   "outputs": [
    {
     "data": {
      "text/plain": [
       "(128, 216)"
      ]
     },
     "execution_count": 43,
     "metadata": {},
     "output_type": "execute_result"
    }
   ],
   "source": [
    "output_processed[0][2].shape"
   ]
  },
  {
   "cell_type": "code",
   "execution_count": 44,
   "metadata": {},
   "outputs": [],
   "source": [
    "nans_count = 0\n",
    "spec_column = output_processed[0]\n",
    "\n",
    "def check_for_nans(spec_column, nans_count):\n",
    "    for idx, array in enumerate(spec_column):\n",
    "        if np.isnan(array).any():\n",
    "                # print(f\"NaNs found in array at index {idx}\")\n",
    "            nans_count += 1\n",
    "    print(nans_count)"
   ]
  },
  {
   "cell_type": "code",
   "execution_count": 45,
   "metadata": {},
   "outputs": [
    {
     "name": "stdout",
     "output_type": "stream",
     "text": [
      "0\n"
     ]
    }
   ],
   "source": [
    "check_for_nans(spec_column, nans_count)"
   ]
  },
  {
   "cell_type": "code",
   "execution_count": 46,
   "metadata": {},
   "outputs": [],
   "source": [
    "# No nans in 1000 rows"
   ]
  },
  {
   "cell_type": "code",
   "execution_count": null,
   "metadata": {},
   "outputs": [],
   "source": []
  }
 ],
 "metadata": {
  "kernelspec": {
   "display_name": "podcast-ad-skipper",
   "language": "python",
   "name": "python3"
  },
  "language_info": {
   "codemirror_mode": {
    "name": "ipython",
    "version": 3
   },
   "file_extension": ".py",
   "mimetype": "text/x-python",
   "name": "python",
   "nbconvert_exporter": "python",
   "pygments_lexer": "ipython3",
   "version": "3.10.6"
  }
 },
 "nbformat": 4,
 "nbformat_minor": 2
}
